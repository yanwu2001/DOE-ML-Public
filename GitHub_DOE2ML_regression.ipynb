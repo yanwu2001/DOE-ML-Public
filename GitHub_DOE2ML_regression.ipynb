{
  "nbformat": 4,
  "nbformat_minor": 0,
  "metadata": {
    "colab": {
      "provenance": [],
      "authorship_tag": "ABX9TyN2A8dkgkMl2rdxEMnbi0R6",
      "include_colab_link": true
    },
    "kernelspec": {
      "name": "python3",
      "display_name": "Python 3"
    },
    "language_info": {
      "name": "python"
    }
  },
  "cells": [
    {
      "cell_type": "markdown",
      "metadata": {
        "id": "view-in-github",
        "colab_type": "text"
      },
      "source": [
        "<a href=\"https://colab.research.google.com/github/yanwu2001/DOE/blob/main/GitHub_DOE2ML_regression.ipynb\" target=\"_parent\"><img src=\"https://colab.research.google.com/assets/colab-badge.svg\" alt=\"Open In Colab\"/></a>"
      ]
    },
    {
      "cell_type": "markdown",
      "source": [
        "# Machine Learning Task 1: polynomial regression\n",
        "\n",
        "*Updated 8/25/24*\n",
        "\n",
        "We start by loading all the required packages."
      ],
      "metadata": {
        "id": "WV7rpYDve_2R"
      }
    },
    {
      "cell_type": "code",
      "execution_count": null,
      "metadata": {
        "id": "h2cpo69TpoBW"
      },
      "outputs": [],
      "source": [
        "import matplotlib.pyplot as plt\n",
        "import numpy as np\n",
        "# reduce display precision on numpy arrays\n",
        "np.set_printoptions(precision=1)\n",
        "import pandas as pd\n",
        "# reduce display precision on pandas dataframes\n",
        "pd.set_option('display.precision', 1)\n",
        "from sklearn import set_config\n",
        "set_config(transform_output=\"pandas\")\n",
        "from sklearn.impute import SimpleImputer\n",
        "from sklearn.preprocessing import FunctionTransformer\n",
        "from sklearn.preprocessing import PolynomialFeatures\n",
        "from sklearn.preprocessing import StandardScaler\n",
        "from sklearn.linear_model import LinearRegression\n",
        "from sklearn.metrics import mean_squared_error\n",
        "from sklearn.model_selection import train_test_split\n",
        "from sklearn.pipeline import make_pipeline\n",
        "import joblib"
      ]
    },
    {
      "cell_type": "markdown",
      "source": [
        "Load data from the collective memory about this catapult stored as a dadabase in .csv file from GitHub.\n"
      ],
      "metadata": {
        "id": "68uVc8LN5TjU"
      }
    },
    {
      "cell_type": "code",
      "source": [
        "#updated raw data url\n",
        "#url='https://raw.githubusercontent.com/yanwu2001/DOE-ML-Public/main/PhysicalCatapult/Catapult_ABCDEFGy_raw.csv'\n",
        "#example data for ML task1 polynomial regression\n",
        "url='https://raw.githubusercontent.com/yanwu2001/DOE-ML-Public/main/PhysicalCatapult/ML_Catapult_ABC_y.csv'\n",
        "df=pd.read_csv(url)\n",
        "print(df.head())\n",
        "print(df.info())\n",
        "print(df.describe())"
      ],
      "metadata": {
        "colab": {
          "base_uri": "https://localhost:8080/"
        },
        "id": "yd2gas0HotVD",
        "outputId": "886ba31a-b2ec-4610-a660-c3e1819c37e6"
      },
      "execution_count": null,
      "outputs": [
        {
          "output_type": "stream",
          "name": "stdout",
          "text": [
            "     ID  Combo#  ball_mass  firing _height  band_length  launch_distance  \\\n",
            "0  run1       0       61.3            18.0         41.8            178.6   \n",
            "1  run2       8       94.1            23.0         43.0            147.8   \n",
            "2  run3       3       22.9            23.0         40.6            146.5   \n",
            "3  run4       1       22.9            13.0         40.6            233.7   \n",
            "4  run5       2       22.9            13.0         43.0            275.4   \n",
            "\n",
            "  short_long  \n",
            "0      short  \n",
            "1      short  \n",
            "2      short  \n",
            "3       long  \n",
            "4       long  \n",
            "<class 'pandas.core.frame.DataFrame'>\n",
            "RangeIndex: 100 entries, 0 to 99\n",
            "Data columns (total 7 columns):\n",
            " #   Column           Non-Null Count  Dtype  \n",
            "---  ------           --------------  -----  \n",
            " 0   ID               100 non-null    object \n",
            " 1   Combo#           100 non-null    int64  \n",
            " 2   ball_mass        100 non-null    float64\n",
            " 3   firing _height   100 non-null    float64\n",
            " 4   band_length      100 non-null    float64\n",
            " 5   launch_distance  100 non-null    float64\n",
            " 6   short_long       100 non-null    object \n",
            "dtypes: float64(4), int64(1), object(2)\n",
            "memory usage: 5.6+ KB\n",
            "None\n",
            "       Combo#  ball_mass  firing _height  band_length  launch_distance\n",
            "count   100.0      100.0           100.0        100.0            100.0\n",
            "mean      3.1       58.6            14.6         42.9            220.0\n",
            "std       3.0       31.4             5.5          5.1             98.4\n",
            "min      -1.0       22.9             6.6         33.0             47.0\n",
            "25%       0.0       22.9             9.0         40.6            163.0\n",
            "50%       3.0       61.3            14.2         42.9            199.2\n",
            "75%       6.0       94.1            19.0         46.0            269.2\n",
            "max       8.0       94.1            23.0         52.0            532.0\n"
          ]
        }
      ]
    },
    {
      "cell_type": "markdown",
      "source": [
        "What we load is just a database.  We need to define what is our training label y and what are the features of the input data.  \n",
        "\n",
        "Some data features are not relavent: ID, Combo#.\n",
        "For the known fixed values, we can drop them too.\n",
        "We can also clean up data that has missing values by imputing. Nothing will be changed if there is no missing values in the orignal data set."
      ],
      "metadata": {
        "id": "p-M-ynbow8Tn"
      }
    },
    {
      "cell_type": "code",
      "source": [
        "# separate the predictors and the labels\n",
        "# define labels\n",
        "y_data=df['launch_distance'].copy()\n",
        "# get rid of unrelavent data\n",
        "X_data=df.drop(['ID','Combo#','launch_distance','short_long'],axis=1)\n",
        "#impute missing values with the mean of the that attrubute,\n",
        "# also available strategies: \"median\" \"most_frequent\"\n",
        "imputer = SimpleImputer(strategy='mean')\n",
        "X_data = imputer.fit_transform(X_data)"
      ],
      "metadata": {
        "id": "FQsMavwhRQvo"
      },
      "execution_count": null,
      "outputs": []
    },
    {
      "cell_type": "markdown",
      "source": [
        "We will seperature the dataset into training set, validation set, and testing set"
      ],
      "metadata": {
        "id": "2j0pKdMLw3N0"
      }
    },
    {
      "cell_type": "code",
      "source": [
        "# Get 60% of the dataset as the training set. Put the remaining 40% in temporary variables: x_ and y_.\n",
        "X_train, X_, y_train, y_ = train_test_split(X_data, y_data, test_size=0.40, random_state=1)\n",
        "\n",
        "# Split the 40% subset above into two: one half for cross validation and the other for the test set\n",
        "X_cv, X_test, y_cv, y_test = train_test_split(X_, y_, test_size=0.50, random_state=1)\n",
        "\n",
        "# Delete temporary variables\n",
        "del X_, y_\n",
        "print(f\"the shape of the training set (input) is: {X_train.shape}\")\n",
        "print(f\"the shape of the training set (target) is: {y_train.shape}\\n\")\n",
        "print(f\"the shape of the cross validation set (input) is: {X_cv.shape}\")\n",
        "print(f\"the shape of the cross validation set (target) is: {y_cv.shape}\\n\")\n",
        "print(f\"the shape of the test set (input) is: {X_test.shape}\")\n",
        "print(f\"the shape of the test set (target) is: {y_test.shape}\")\n",
        "print(\"the first 5 elements in X_train are :\\n\", X_train[:5])"
      ],
      "metadata": {
        "colab": {
          "base_uri": "https://localhost:8080/"
        },
        "id": "f8YogtIgXoyJ",
        "outputId": "c6bc5f5e-8fe1-453a-a31a-dcb33c973c60"
      },
      "execution_count": null,
      "outputs": [
        {
          "output_type": "stream",
          "name": "stdout",
          "text": [
            "the shape of the training set (input) is: (60, 3)\n",
            "the shape of the training set (target) is: (60,)\n",
            "\n",
            "the shape of the cross validation set (input) is: (20, 3)\n",
            "the shape of the cross validation set (target) is: (20,)\n",
            "\n",
            "the shape of the test set (input) is: (20, 3)\n",
            "the shape of the test set (target) is: (20,)\n",
            "the first 5 elements in X_train are :\n",
            "     ball_mass  firing _height  band_length\n",
            "86       68.5             7.4         47.3\n",
            "53       94.1            19.0         42.0\n",
            "77       22.9            14.2         33.0\n",
            "15       22.9            13.0         43.0\n",
            "83       61.3            10.4         39.5\n"
          ]
        }
      ]
    },
    {
      "cell_type": "markdown",
      "source": [
        "Maching learning algorithms do not work perform well when the input numerical attributes have very different scales.  We will scale the input so that all data are roughly between -1 to 1.  The same scaling rule need to apply for new data or during production in order for the model to work."
      ],
      "metadata": {
        "id": "F1lbSXqKw0cd"
      }
    },
    {
      "cell_type": "code",
      "source": [
        "\n",
        "# Create a StandardScaler object for the training set, use the same scaling for all data\n",
        "x_scaler = StandardScaler()\n",
        "X = x_scaler.fit_transform(X_train)\n",
        "print(X.head())\n",
        "print(X.describe())\n",
        "#y_tr_transformer = FunctionTransformer(np.log, inverse_func=np.exp)\n",
        "#y_tr = y_transformer.fit_transform(y_train)\n",
        "y=y_train\n",
        "#print(y_tr.head())\n",
        "# never use fit() or fit_transform for anything else than the training set.\n",
        "# to ensure other data use the same tranformer, use transform()\n"
      ],
      "metadata": {
        "id": "p1rISwkI5_rb",
        "colab": {
          "base_uri": "https://localhost:8080/"
        },
        "outputId": "b35b9511-dfe5-47e0-b778-6d919c3cf7ad"
      },
      "execution_count": null,
      "outputs": [
        {
          "output_type": "stream",
          "name": "stdout",
          "text": [
            "    ball_mass  firing _height  band_length\n",
            "86        0.4            -1.4      9.9e-01\n",
            "53        1.2             0.7     -5.9e-02\n",
            "77       -1.1            -0.2     -1.8e+00\n",
            "15       -1.1            -0.4      1.4e-01\n",
            "83        0.1            -0.8     -5.5e-01\n",
            "       ball_mass  firing _height  band_length\n",
            "count    6.0e+01         6.0e+01      6.0e+01\n",
            "mean    -1.3e-16        -4.3e-17     -3.2e-16\n",
            "std      1.0e+00         1.0e+00      1.0e+00\n",
            "min     -1.1e+00        -1.5e+00     -1.8e+00\n",
            "25%     -1.1e+00        -8.4e-01     -3.4e-01\n",
            "50%      1.2e-01        -1.5e-01      4.1e-02\n",
            "75%      1.2e+00         8.3e-01      7.4e-01\n",
            "max      1.2e+00         1.4e+00      1.9e+00\n"
          ]
        }
      ]
    },
    {
      "cell_type": "markdown",
      "source": [
        "We will first train a linear model (1st order polynomial)"
      ],
      "metadata": {
        "id": "UIxApFMv61ZS"
      }
    },
    {
      "cell_type": "code",
      "source": [
        "\n",
        "# 1st order model\n",
        "#train the model\n",
        "model1 = LinearRegression()\n",
        "model1.fit(X,y)\n",
        "print(\"the fitting parameters for the 1st order model are:\\n\")\n",
        "print(\"the weights are \", model1.coef_)\n",
        "print(\"the intercept is\", model1.intercept_)\n",
        "\n",
        "# Predict on the training data\n",
        "y_pred_tr = model1.predict(X)\n",
        "#y_pred=y_transformer.inverse_transform(y_pred_tr)\n",
        "# Calculate RMean Squared Error by selecting squared=False,\n",
        "# the default is Mean Squared Error\n",
        "mse_t = mean_squared_error(y_train, y_pred_tr, squared=False)\n",
        "# Print the RMSE\n",
        "print('Root Mean Squared Error for training set:', mse_t)"
      ],
      "metadata": {
        "colab": {
          "base_uri": "https://localhost:8080/"
        },
        "id": "ctFZRknNTUee",
        "outputId": "33d01926-09e4-479c-a9fc-74a9a08975d6"
      },
      "execution_count": null,
      "outputs": [
        {
          "output_type": "stream",
          "name": "stdout",
          "text": [
            "the fitting parameters for the 1st order model are:\n",
            "\n",
            "the weights are  [-20.6 -35.6  74.4]\n",
            "the intercept is 205.79333333333338\n",
            "Root Mean Squared Error for training set: 40.0958720166386\n"
          ]
        }
      ]
    },
    {
      "cell_type": "markdown",
      "source": [
        "Evaluate the model with cross validation set"
      ],
      "metadata": {
        "id": "Iymf2jmSzFB3"
      }
    },
    {
      "cell_type": "code",
      "source": [
        "#\n",
        "# apply the same scaling and transformation\n",
        "X_scaled_cv = x_scaler.transform(X_cv)\n",
        "#y_log_cv = y_transformer.transform(y_cv)\n",
        "# Predict on the cross validation data\n",
        "y_pred_cv = model1.predict(X_scaled_cv)\n",
        "# Calculate Mean Squared Error\n",
        "mse_cv = mean_squared_error(y_cv, y_pred_cv,squared=False)\n",
        "# Print the MSE\n",
        "print('Root Mean Squared Error for cross validation set:', mse_cv)"
      ],
      "metadata": {
        "id": "9AAUUwjjsrn2",
        "colab": {
          "base_uri": "https://localhost:8080/"
        },
        "outputId": "51d42e24-8e62-450f-bb02-0e8a6b38cc11"
      },
      "execution_count": null,
      "outputs": [
        {
          "output_type": "stream",
          "name": "stdout",
          "text": [
            "Root Mean Squared Error for cross validation set: 42.787780021741796\n"
          ]
        }
      ]
    },
    {
      "cell_type": "markdown",
      "source": [
        "By increasing the order of the moplynomial model, we will reduce the bias of the model and avoid underfitting."
      ],
      "metadata": {
        "id": "J0aqpCVmicfA"
      }
    },
    {
      "cell_type": "code",
      "source": [
        "# 2nd order polynomial regression\n",
        "# Create a PolynomialFeatures object with degree 2, drop bias (1 in the first column)\n",
        "poly = PolynomialFeatures(degree=2,include_bias=False)\n",
        "\n",
        "# Fit and transform the data to create polynomial features\n",
        "X_poly = poly.fit_transform(X_train)\n",
        "# Check the original and polynomial features\n",
        "print(\"Original X:\", X_train.head())\n",
        "print(\"Polynomial X:\", X_poly.head())\n",
        "\n",
        "#Scale the training set\n",
        "poly_scaler = StandardScaler()\n",
        "X = poly_scaler.fit_transform(X_poly)\n",
        "y=y_train"
      ],
      "metadata": {
        "colab": {
          "base_uri": "https://localhost:8080/"
        },
        "id": "BeYsLRKv4CTI",
        "outputId": "96433057-5893-4d77-8d08-8db08fca456c"
      },
      "execution_count": null,
      "outputs": [
        {
          "output_type": "stream",
          "name": "stdout",
          "text": [
            "Original X:     ball_mass  firing _height  band_length\n",
            "86       68.5             7.4         47.3\n",
            "53       94.1            19.0         42.0\n",
            "77       22.9            14.2         33.0\n",
            "15       22.9            13.0         43.0\n",
            "83       61.3            10.4         39.5\n",
            "Polynomial X:     ball_mass  firing _height  band_length  ball_mass^2  \\\n",
            "86       68.5             7.4         47.3       4692.2   \n",
            "53       94.1            19.0         42.0       8854.8   \n",
            "77       22.9            14.2         33.0        524.4   \n",
            "15       22.9            13.0         43.0        524.4   \n",
            "83       61.3            10.4         39.5       3757.7   \n",
            "\n",
            "    ball_mass firing _height  ball_mass band_length  firing _height^2  \\\n",
            "86                     506.9                 3240.0              54.8   \n",
            "53                    1787.9                 3952.2             361.0   \n",
            "77                     325.2                  755.7             201.6   \n",
            "15                     297.7                  984.7             169.0   \n",
            "83                     637.5                 2421.3             108.2   \n",
            "\n",
            "    firing _height band_length  band_length^2  \n",
            "86                       350.0         2237.3  \n",
            "53                       798.0         1764.0  \n",
            "77                       468.6         1089.0  \n",
            "15                       559.0         1849.0  \n",
            "83                       410.8         1560.2  \n"
          ]
        }
      ]
    },
    {
      "cell_type": "code",
      "source": [
        "#train the model (2nd order)\n",
        "model2 = LinearRegression()\n",
        "model2.fit(X,y)\n",
        "print(\"the fitting parameters for the 2nd order model are:\\n\")\n",
        "print(\"the weights are \", model2.coef_)\n",
        "print(\"the intercept is\", model2.intercept_)\n",
        "\n",
        "# Predict on the training data\n",
        "y_pred_tr = model2.predict(X)\n",
        "# Calculate Mean Squared Error\n",
        "mse_t = mean_squared_error(y_train, y_pred_tr, squared=False)\n",
        "# Print the MSE\n",
        "print('Root Mean Squared Error for training set:', mse_t)"
      ],
      "metadata": {
        "colab": {
          "base_uri": "https://localhost:8080/"
        },
        "id": "abWVf_1UJPSu",
        "outputId": "ae83fd59-a365-4aa5-adba-06b65d8fd6e4"
      },
      "execution_count": null,
      "outputs": [
        {
          "output_type": "stream",
          "name": "stdout",
          "text": [
            "the fitting parameters for the 2nd order model are:\n",
            "\n",
            "the weights are  [-73.   49.3 183.3  81.6  36.5 -60.8 -42.4 -68.8 -77.9]\n",
            "the intercept is 205.79333333333315\n",
            "Root Mean Squared Error for training set: 35.295770592164594\n"
          ]
        }
      ]
    },
    {
      "cell_type": "markdown",
      "source": [
        "Increasing the order of the polynomial may also lead to overfitting or high variance.  We need to check that using cross validation set."
      ],
      "metadata": {
        "id": "KlxBJh5ki4-T"
      }
    },
    {
      "cell_type": "code",
      "source": [
        "# Fit and transform the validation data to create polynomial features\n",
        "X_poly = poly.fit_transform(X_cv)\n",
        "# Check the original and polynomial features\n",
        "#print(\"Original X:\", X_cv.head())\n",
        "#print(\"Polynomial X:\", X_poly.head())\n",
        "\n",
        "#Scale the validation set\n",
        "X = poly_scaler.transform(X_poly)\n",
        "\n",
        "# Predict on the cross validation data\n",
        "y_pred_cv = model2.predict(X)\n",
        "# Calculate Mean Squared Error\n",
        "mse_cv = mean_squared_error(y_cv, y_pred_cv,squared=False)\n",
        "# Print the MSE\n",
        "print('Root Mean Squared Error for cross validation set:', mse_cv)\n"
      ],
      "metadata": {
        "id": "dgQvGtLa7klt",
        "colab": {
          "base_uri": "https://localhost:8080/"
        },
        "outputId": "bd057401-8290-4a14-e400-2a1ce75133ee"
      },
      "execution_count": null,
      "outputs": [
        {
          "output_type": "stream",
          "name": "stdout",
          "text": [
            "Root Mean Squared Error for cross validation set: 42.62437414624094\n"
          ]
        }
      ]
    },
    {
      "cell_type": "markdown",
      "source": [
        "By using 2nd order model, we see a decrease in RMSE in training set. The RMSE does not increase. That is good news.  \n",
        "Going forward, we can use of make_pipeline to do exactly the same thing."
      ],
      "metadata": {
        "id": "Aa3hoSezAFfk"
      }
    },
    {
      "cell_type": "code",
      "source": [
        "preprocessing=make_pipeline(PolynomialFeatures(degree=2,include_bias=False),StandardScaler())\n",
        "model=LinearRegression()\n",
        "train_pipe=make_pipeline(preprocessing,model)\n",
        "train_pipe.fit(X_train,y_train)\n",
        "print(\"the fitting parameters for the 2nd order model are:\\n\")\n",
        "print(\"the weights are \", train_pipe[-1].coef_)\n",
        "print(\"the intercept is\", train_pipe[-1].intercept_)\n",
        "y_pred_tr=train_pipe.predict(X_train)\n",
        "mse_t = mean_squared_error(y_train, y_pred_tr, squared=False)\n",
        "# Print the MSE\n",
        "print('Root Mean Squared Error for training set:', mse_t)\n",
        "\n",
        "y_pred_cv=train_pipe.predict(X_cv)\n",
        "mse_cv = mean_squared_error(y_cv, y_pred_cv,squared=False)\n",
        "# Print the MSE\n",
        "print('Root Mean Squared Error for cross validation set:', mse_cv)\n"
      ],
      "metadata": {
        "colab": {
          "base_uri": "https://localhost:8080/"
        },
        "id": "Zxefi_22Emva",
        "outputId": "3bed00f7-8400-4bcd-c17f-36439a89b745"
      },
      "execution_count": null,
      "outputs": [
        {
          "output_type": "stream",
          "name": "stdout",
          "text": [
            "the fitting parameters for the 2nd order model are:\n",
            "\n",
            "the weights are  [-73.   49.3 183.3  81.6  36.5 -60.8 -42.4 -68.8 -77.9]\n",
            "the intercept is 205.79333333333315\n",
            "Root Mean Squared Error for training set: 35.295770592164594\n",
            "Root Mean Squared Error for cross validation set: 42.62437414624094\n"
          ]
        }
      ]
    },
    {
      "cell_type": "markdown",
      "source": [
        "Above shows pipeline does the same processsing, except once the model is trained, you only uses it to predict, do not retrain by calling train_pipe.fit(X_cv,y_cv).\n",
        "\n",
        "With the help with pipeline, we can quickly try higher order models without having to write a lot of codes."
      ],
      "metadata": {
        "id": "wCcA2JZxM3dP"
      }
    },
    {
      "cell_type": "code",
      "source": [
        "# Initialize lists to save the errors\n",
        "train_mses = []\n",
        "cv_mses = []\n",
        "# Loop over 5 times. Each adding one more degree of polynomial higher than the last.\n",
        "for degree_num in range(1,10):\n",
        "  preprocessing=make_pipeline(PolynomialFeatures(degree=degree_num,include_bias=False),StandardScaler())\n",
        "  model=LinearRegression()\n",
        "  train_pipe=make_pipeline(preprocessing,model)\n",
        "  train_pipe.fit(X_train,y_train)\n",
        "  #evaluate train set prediction\n",
        "  y_pred_tr=train_pipe.predict(X_train)\n",
        "  mse_t = mean_squared_error(y_train, y_pred_tr, squared=False)\n",
        "  train_mses.append(mse_t)\n",
        "  #evaluate cross validation set prediction\n",
        "  y_pred_cv=train_pipe.predict(X_cv)\n",
        "  mse_cv = mean_squared_error(y_cv, y_pred_cv,squared=False)\n",
        "  cv_mses.append(mse_cv)\n",
        "\n",
        "print(train_mses)\n",
        "print(cv_mses)\n",
        "\n"
      ],
      "metadata": {
        "id": "q6KAsoZJ8fQG",
        "colab": {
          "base_uri": "https://localhost:8080/"
        },
        "outputId": "d574dc2c-c170-42a7-cea8-61ecdeb9eb62"
      },
      "execution_count": null,
      "outputs": [
        {
          "output_type": "stream",
          "name": "stdout",
          "text": [
            "[40.095872016638594, 35.295770592164594, 14.55016635059613, 5.606076091338406, 5.514904838291281, 5.514815903041955, 5.514815903041955, 5.514815903041905, 5.51481590304192]\n",
            "[42.78778002174179, 42.62437414624094, 20.777619331337338, 15.557676443805631, 11838685322.810875, 114.02159817149646, 103.9256527775734, 94.05046630197671, 84.56542565410271]\n"
          ]
        }
      ]
    },
    {
      "cell_type": "markdown",
      "source": [
        "Just by looking at the numbers, RMSE explodes at Degree=5.  Degree=3 or Degree=4 are OK.  We need to visialize the trend with plots.  "
      ],
      "metadata": {
        "id": "Gk8KAzt89Cqc"
      }
    },
    {
      "cell_type": "code",
      "source": [
        "# Plot the results\n",
        "plt.scatter(range(1,5), train_mses[0:4], label='Train RMSE')\n",
        "plt.scatter(range(1,5), cv_mses[0:4], label='CV RMSE')\n",
        "plt.xlabel('Degree of Polynomial')\n",
        "plt.ylabel('RMSE')\n",
        "plt.title('Train and CV RMSEs vs. Degree of Polynomial')\n",
        "plt.legend()\n",
        "plt.show()"
      ],
      "metadata": {
        "colab": {
          "base_uri": "https://localhost:8080/",
          "height": 472
        },
        "id": "WjKLRlsiQ5H8",
        "outputId": "6fe5f787-22cd-48d2-d5c7-c31d010c1ac8"
      },
      "execution_count": null,
      "outputs": [
        {
          "output_type": "display_data",
          "data": {
            "text/plain": [
              "<Figure size 640x480 with 1 Axes>"
            ],
            "image/png": "[encoded data removed]"
          },
          "metadata": {}
        }
      ]
    },
    {
      "cell_type": "markdown",
      "source": [
        "As the order increases, training set RMSE decreases. CV set RMSE follows the trend but the gap between the two starts to increase at degree=4. The 3rd order model works the best."
      ],
      "metadata": {
        "id": "etMjqw1E8zAx"
      }
    },
    {
      "cell_type": "code",
      "source": [
        "#Depoly the model as a trained predictor\n",
        "## Try 4th order model first\n",
        "preprocessing=make_pipeline(PolynomialFeatures(degree=4,include_bias=False),StandardScaler())\n",
        "model=LinearRegression()\n",
        "train_pipe=make_pipeline(preprocessing,model)\n",
        "train_pipe.fit(X_train,y_train)\n",
        "y_pred_t=train_pipe.predict(X_test)\n",
        "mse_t = mean_squared_error(y_test, y_pred_t, squared=False)\n",
        "print('Root Mean Squared Error for test set for 4th oder model:', mse_t)"
      ],
      "metadata": {
        "colab": {
          "base_uri": "https://localhost:8080/"
        },
        "id": "4uK3-WYfTZi6",
        "outputId": "0d58884b-d288-412e-c074-893fa9ca966d"
      },
      "execution_count": null,
      "outputs": [
        {
          "output_type": "stream",
          "name": "stdout",
          "text": [
            "Root Mean Squared Error for test set for 4th oder model: 125741730493.07803\n"
          ]
        }
      ]
    },
    {
      "cell_type": "markdown",
      "source": [
        "Using test set, we rule out the 4th order model.  The RMSE is too big."
      ],
      "metadata": {
        "id": "WUhvkUCDl7cw"
      }
    },
    {
      "cell_type": "code",
      "source": [
        "# Select 3rd order model as the final ML model\n",
        "preprocessing=make_pipeline(PolynomialFeatures(degree=3,include_bias=False),StandardScaler())\n",
        "model=LinearRegression()\n",
        "train_pipe=make_pipeline(preprocessing,model)\n",
        "train_pipe.fit(X_train,y_train)\n",
        "y_pred_t=train_pipe.predict(X_test)\n",
        "mse_t = mean_squared_error(y_test, y_pred_t, squared=False)\n",
        "print('Root Mean Squared Error for test set for 3rd oder model:', mse_t)"
      ],
      "metadata": {
        "colab": {
          "base_uri": "https://localhost:8080/"
        },
        "id": "v8SqiCokWkkx",
        "outputId": "8cb63847-6e2c-45d4-cceb-9dee2182c08b"
      },
      "execution_count": null,
      "outputs": [
        {
          "output_type": "stream",
          "name": "stdout",
          "text": [
            "Root Mean Squared Error for test set for 3rd oder model: 32.07247067957224\n"
          ]
        }
      ]
    },
    {
      "cell_type": "markdown",
      "source": [
        "joblib.dump saves a file in under 'sample_data' folder.  You can download it to your local drive.  This is your model from Machine Learning Task 1.  You can reload it in other codes to make predictions directly with new data."
      ],
      "metadata": {
        "id": "nVOk-uvu3sbf"
      }
    },
    {
      "cell_type": "code",
      "source": [
        "joblib.dump(train_pipe, 'physical_catapult_regression.pkl')"
      ],
      "metadata": {
        "colab": {
          "base_uri": "https://localhost:8080/"
        },
        "id": "rLct44vymeWC",
        "outputId": "8daadb58-123f-40c5-9604-4da9d58da3c7"
      },
      "execution_count": null,
      "outputs": [
        {
          "output_type": "execute_result",
          "data": {
            "text/plain": [
              "['physical_catapult_regression.pkl']"
            ]
          },
          "metadata": {},
          "execution_count": 17
        }
      ]
    },
    {
      "cell_type": "markdown",
      "source": [
        "The following shows how you use your saved model in other codes."
      ],
      "metadata": {
        "id": "JO49UBFN4w4e"
      }
    },
    {
      "cell_type": "code",
      "source": [
        "final_model=joblib.load('physical_catapult_regression.pkl')\n",
        "print(\"first 5 data points\")\n",
        "print(X_test.head())\n",
        "print(\"the predicted launch distance\")\n",
        "y_pred_t=final_model.predict(X_test)\n",
        "print(y_pred_t[0:5])\n",
        "print(\"the actual launch distance\")\n",
        "print(y_test.head())\n",
        "\n"
      ],
      "metadata": {
        "colab": {
          "base_uri": "https://localhost:8080/"
        },
        "id": "5wbvdAGGpXM8",
        "outputId": "764a978d-afe9-451c-81a5-a1f4e97b0cbd"
      },
      "execution_count": null,
      "outputs": [
        {
          "output_type": "stream",
          "name": "stdout",
          "text": [
            "first 5 data points\n",
            "    ball_mass  firing _height  band_length\n",
            "33       94.1             9.0         42.0\n",
            "99       22.9            22.1         43.0\n",
            "81       94.1             6.6         33.0\n",
            "73       94.1             6.6         46.0\n",
            "27       61.3            18.0         41.8\n",
            "the predicted launch distance\n",
            "[265.9 165.1  75.4 283.5 199.2]\n",
            "the actual launch distance\n",
            "33    264.0\n",
            "99    177.9\n",
            "81     72.1\n",
            "73    281.7\n",
            "27    176.5\n",
            "Name: launch_distance, dtype: float64\n"
          ]
        }
      ]
    }
  ]
}