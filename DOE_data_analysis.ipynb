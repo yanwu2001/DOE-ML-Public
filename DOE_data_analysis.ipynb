{
  "nbformat": 4,
  "nbformat_minor": 0,
  "metadata": {
    "colab": {
      "provenance": []
    },
    "kernelspec": {
      "name": "python3",
      "display_name": "Python 3"
    },
    "language_info": {
      "name": "python"
    }
  },
  "cells": [
    {
      "cell_type": "markdown",
      "source": [
        "# DOE data analysis example\n",
        "\n",
        "*Updated 8/25/24*\n",
        "\n",
        "We start by loading all the required packages."
      ],
      "metadata": {
        "id": "S5V02QSJ9DNS"
      }
    },
    {
      "cell_type": "code",
      "execution_count": 1,
      "metadata": {
        "id": "Lnfnzl2VRJNt"
      },
      "outputs": [],
      "source": [
        "import matplotlib.pyplot as plt\n",
        "from mpl_toolkits.mplot3d import Axes3D\n",
        "import numpy as np\n",
        "import pandas as pd\n",
        "import itertools\n",
        "import math\n",
        "from scipy.stats import t\n",
        "import statsmodels.api as sm"
      ]
    },
    {
      "cell_type": "code",
      "source": [
        "def linear_mapping(vector,old_range,new_range):\n",
        "  \"\"\"\n",
        "  Args:\n",
        "    vector: input vector, one dimensional array or single value\n",
        "    old_range:[old_min old_max]\n",
        "    new_range: [new_min new_max]\n",
        "  Returns: scaled vector\n",
        "\n",
        "  \"\"\"\n",
        "  scaled_vector = np.zeros_like(vector)\n",
        "  for i in range(len(vector)):\n",
        "        scaled_value = (vector[i] - old_range[0]) / (old_range[1] - old_range[0]) * (new_range[1] - new_range[0]) + new_range[0]\n",
        "        scaled_vector[i] = scaled_value\n",
        "  return scaled_vector\n"
      ],
      "metadata": {
        "id": "aii_F7wvj47p"
      },
      "execution_count": 2,
      "outputs": []
    },
    {
      "cell_type": "code",
      "source": [
        "def find_ranges(arr):\n",
        "  \"\"\"\n",
        "  find the min and max of each column of the array\n",
        "  Args:\n",
        "    arr:\n",
        " Returns: min and max of each column of the array\n",
        "  \"\"\"\n",
        "  col_nm=arr.shape[1]\n",
        "  ranges=np.zeros((col_nm,2))\n",
        "  for i in range(col_nm):\n",
        "    ranges[i,0]=arr[:,i].min()\n",
        "    ranges[i,1]=arr[:,i].max()\n",
        "  return ranges"
      ],
      "metadata": {
        "id": "78lnOaQjkiea"
      },
      "execution_count": 3,
      "outputs": []
    },
    {
      "cell_type": "code",
      "source": [
        "def map_raw_to_coded_factors(arr,old_range):\n",
        " #map raw data to [-1  1]\n",
        "  new_range=np.array([-1,1])\n",
        "  mapped_arr=np.zeros_like(arr)\n",
        "  factor_num=arr.shape[1]\n",
        "  #factor_ranges=[[-1,1]]*factor_num\n",
        "  #print(factor_ranges)\n",
        "  for i in range(factor_num):\n",
        "    vector=arr[:,i]\n",
        "    mapped_arr[:,i]=linear_mapping(vector,old_range[i],new_range)\n",
        "  mapped_arr=mapped_arr.astype(float)\n",
        "  return mapped_arr"
      ],
      "metadata": {
        "id": "utnYKGiIIOKY"
      },
      "execution_count": 4,
      "outputs": []
    },
    {
      "cell_type": "markdown",
      "source": [
        "map the raw data of the main effects to [-1 0 1}"
      ],
      "metadata": {
        "id": "6ifDViTEuxDt"
      }
    },
    {
      "cell_type": "code",
      "source": [
        "def compute_interaction_terms(X, interactions):\n",
        "    X_interaction = np.zeros((X.shape[0], len(interactions)))\n",
        "    for idx, interaction in enumerate(interactions):\n",
        "        #print(idx)\n",
        "        X_interaction[:, idx] = X[:, factors.index(interaction[0])] * X[:, factors.index(interaction[1])]\n",
        "        #print(X_interaction)\n",
        "    return X_interaction\n"
      ],
      "metadata": {
        "id": "X0I1Tz_1u-u2"
      },
      "execution_count": 5,
      "outputs": []
    },
    {
      "cell_type": "markdown",
      "source": [
        "The DOE data analysis starts with loading data of 2 level 3 factor full factrial design of catapult experiments from GitHub"
      ],
      "metadata": {
        "id": "QOvd-X_zhqBn"
      }
    },
    {
      "cell_type": "code",
      "source": [
        "url='https://raw.githubusercontent.com/yanwu2001/DOE-ML-Public/main/PhysicalCatapult/DOE_23FF_Group1.csv'\n",
        "df=pd.read_csv(url)\n",
        "print(df.head())\n",
        "print(df.info())\n",
        "print(df.describe())\n",
        "#\n",
        "l=list(df.columns)\n",
        "arr=df.to_numpy()\n",
        "factors=l[2:5]\n",
        "print(\"factors in data set are\", factors)\n",
        "print(\"response in data set is\", l[5])\n",
        "combo=arr[:,1]\n",
        "#print(combo)\n"
      ],
      "metadata": {
        "colab": {
          "base_uri": "https://localhost:8080/"
        },
        "id": "wgO6_T0lkiiP",
        "outputId": "15bf86ec-5803-4027-92f1-6fb3ac641d66"
      },
      "execution_count": 6,
      "outputs": [
        {
          "output_type": "stream",
          "name": "stdout",
          "text": [
            "     ID  Combo#     A     B     C      y\n",
            "0  Run1       0  61.3  18.0  41.8  178.6\n",
            "1  Run2       8  94.1  23.0  43.0  147.8\n",
            "2  Run3       3  22.9  23.0  40.6  146.5\n",
            "3  Run4       1  22.9  13.0  40.6  233.7\n",
            "4  Run5       2  22.9  13.0  43.0  275.4\n",
            "<class 'pandas.core.frame.DataFrame'>\n",
            "RangeIndex: 28 entries, 0 to 27\n",
            "Data columns (total 6 columns):\n",
            " #   Column  Non-Null Count  Dtype  \n",
            "---  ------  --------------  -----  \n",
            " 0   ID      28 non-null     object \n",
            " 1   Combo#  28 non-null     int64  \n",
            " 2   A       28 non-null     float64\n",
            " 3   B       28 non-null     float64\n",
            " 4   C       28 non-null     float64\n",
            " 5   y       28 non-null     float64\n",
            "dtypes: float64(4), int64(1), object(1)\n",
            "memory usage: 1.4+ KB\n",
            "None\n",
            "          Combo#          A          B          C           y\n",
            "count  28.000000  28.000000  28.000000  28.000000   28.000000\n",
            "mean    3.857143  58.900000  18.000000  41.800000  189.746429\n",
            "std     2.690371  33.578829   4.714045   1.131371   45.049277\n",
            "min     0.000000  22.900000  13.000000  40.600000  125.900000\n",
            "25%     1.750000  22.900000  13.000000  40.600000  149.925000\n",
            "50%     4.000000  61.300000  18.000000  41.800000  179.800000\n",
            "75%     6.000000  94.100000  23.000000  43.000000  234.300000\n",
            "max     8.000000  94.100000  23.000000  43.000000  275.400000\n",
            "factors in data set are ['A', 'B', 'C']\n",
            "response in data set is y\n"
          ]
        }
      ]
    },
    {
      "cell_type": "code",
      "source": [
        "#splitting data into base runs and center point runs\n",
        "arr_base=[]\n",
        "arr_center=[]\n",
        "for i in range(len(combo)):\n",
        "  if combo[i]==0:\n",
        "    arr_center.append(arr[i,:])\n",
        "  else:\n",
        "    arr_base.append(arr[i,:])\n",
        "arr_base=np.array(arr_base)\n",
        "arr_center=np.array(arr_center)\n",
        "#print(arr_base)\n",
        "#print(arr_center)\n",
        "print ('The shape of arr_base is: ' + str(arr_base.shape))\n",
        "print ('The shape of arr_center is: ' + str(arr_center.shape))\n",
        "print ('The shape of arr_base is: ' + str(arr_base.shape))\n",
        "print ('The shape of arr_center is: ' + str(arr_center.shape))"
      ],
      "metadata": {
        "colab": {
          "base_uri": "https://localhost:8080/"
        },
        "id": "zaDUO-gL5xlw",
        "outputId": "24aba4ee-d56b-4929-e1a3-d7b8ccf06930"
      },
      "execution_count": 7,
      "outputs": [
        {
          "output_type": "stream",
          "name": "stdout",
          "text": [
            "The shape of arr_base is: (24, 6)\n",
            "The shape of arr_center is: (4, 6)\n",
            "The shape of arr_base is: (24, 6)\n",
            "The shape of arr_center is: (4, 6)\n"
          ]
        }
      ]
    },
    {
      "cell_type": "code",
      "source": [
        "# calculate effects: main effects and interaction\n",
        "X_base=arr_base[:,2:5]\n",
        "y_base=arr_base[:,5]\n",
        "ranges=find_ranges(X_base)\n",
        "X_mapped=map_raw_to_coded_factors(X_base,ranges)\n",
        "#print(X_mapped)\n",
        "interactions = list(itertools.combinations(factors, 2))\n",
        "X_mapped_interaction=compute_interaction_terms(X_mapped, interactions)\n",
        "#print(X_mapped_interaction)\n",
        "X_effects=np.column_stack((X_mapped,X_mapped_interaction))\n",
        "print(X_effects)"
      ],
      "metadata": {
        "colab": {
          "base_uri": "https://localhost:8080/"
        },
        "id": "7irXjLcOqW5N",
        "outputId": "2602b0df-82ab-4386-db29-c42a4d3bf007"
      },
      "execution_count": 8,
      "outputs": [
        {
          "output_type": "stream",
          "name": "stdout",
          "text": [
            "[[ 1.  1.  1.  1.  1.  1.]\n",
            " [-1.  1. -1. -1.  1. -1.]\n",
            " [-1. -1. -1.  1.  1.  1.]\n",
            " [-1. -1.  1.  1. -1. -1.]\n",
            " [-1.  1.  1. -1. -1.  1.]\n",
            " [ 1.  1. -1.  1. -1. -1.]\n",
            " [ 1. -1.  1. -1.  1. -1.]\n",
            " [ 1. -1. -1. -1. -1.  1.]\n",
            " [-1. -1. -1.  1.  1.  1.]\n",
            " [-1.  1.  1. -1. -1.  1.]\n",
            " [-1.  1. -1. -1.  1. -1.]\n",
            " [ 1. -1.  1. -1.  1. -1.]\n",
            " [ 1.  1.  1.  1.  1.  1.]\n",
            " [-1. -1.  1.  1. -1. -1.]\n",
            " [ 1. -1. -1. -1. -1.  1.]\n",
            " [ 1.  1. -1.  1. -1. -1.]\n",
            " [-1. -1.  1.  1. -1. -1.]\n",
            " [-1.  1. -1. -1.  1. -1.]\n",
            " [ 1. -1.  1. -1.  1. -1.]\n",
            " [ 1.  1.  1.  1.  1.  1.]\n",
            " [ 1. -1. -1. -1. -1.  1.]\n",
            " [-1.  1.  1. -1. -1.  1.]\n",
            " [ 1.  1. -1.  1. -1. -1.]\n",
            " [-1. -1. -1.  1.  1.  1.]]\n"
          ]
        }
      ]
    },
    {
      "cell_type": "code",
      "source": [
        "# create DOE model\n",
        "X_effects=sm.add_constant(X_effects)\n",
        "#print(X_effects)\n",
        "y_base = y_base.astype(float)\n",
        "#print(y_base)\n",
        "model = sm.OLS(y_base, X_effects).fit()\n",
        "param_names = ['y_ave'] + factors + [f'{i[0]}:{i[1]}' for i in interactions]\n",
        "print(model.summary(xname=param_names))\n",
        "print(model.params)\n",
        "#print(model.pvalues)"
      ],
      "metadata": {
        "colab": {
          "base_uri": "https://localhost:8080/"
        },
        "id": "tLesSpElgJku",
        "outputId": "218f66a3-8d14-4190-a88f-56d46689c522"
      },
      "execution_count": 9,
      "outputs": [
        {
          "output_type": "stream",
          "name": "stdout",
          "text": [
            "                            OLS Regression Results                            \n",
            "==============================================================================\n",
            "Dep. Variable:                      y   R-squared:                       0.972\n",
            "Model:                            OLS   Adj. R-squared:                  0.962\n",
            "Method:                 Least Squares   F-statistic:                     97.57\n",
            "Date:                Mon, 26 Aug 2024   Prob (F-statistic):           3.20e-12\n",
            "Time:                        16:12:21   Log-Likelihood:                -83.927\n",
            "No. Observations:                  24   AIC:                             181.9\n",
            "Df Residuals:                      17   BIC:                             190.1\n",
            "Df Model:                           6                                         \n",
            "Covariance Type:            nonrobust                                         \n",
            "==============================================================================\n",
            "                 coef    std err          t      P>|t|      [0.025      0.975]\n",
            "------------------------------------------------------------------------------\n",
            "y_ave        191.4083      1.938     98.788      0.000     187.320     195.496\n",
            "A            -14.4417      1.938     -7.454      0.000     -18.530     -10.354\n",
            "B            -41.8500      1.938    -21.599      0.000     -45.938     -37.762\n",
            "C             14.2083      1.938      7.333      0.000      10.120      18.296\n",
            "A:B            3.1833      1.938      1.643      0.119      -0.905       7.271\n",
            "A:C            1.3917      1.938      0.718      0.482      -2.696       5.480\n",
            "B:C           -4.8833      1.938     -2.520      0.022      -8.971      -0.795\n",
            "==============================================================================\n",
            "Omnibus:                        3.448   Durbin-Watson:                   1.902\n",
            "Prob(Omnibus):                  0.178   Jarque-Bera (JB):                1.824\n",
            "Skew:                          -0.357   Prob(JB):                        0.402\n",
            "Kurtosis:                       4.147   Cond. No.                         1.00\n",
            "==============================================================================\n",
            "\n",
            "Notes:\n",
            "[1] Standard Errors assume that the covariance matrix of the errors is correctly specified.\n",
            "[191.40833333 -14.44166667 -41.85        14.20833333   3.18333333\n",
            "   1.39166667  -4.88333333]\n"
          ]
        }
      ]
    },
    {
      "cell_type": "code",
      "source": [
        "#make prediction using raw data\n",
        "x_test_raw=[[68.5, 21.5, 41.2],\n",
        "            [22.9, 21.1, 43]]\n",
        "x_test_scaled=map_raw_to_coded_factors(np.array(x_test_raw),ranges)\n",
        "print(x_test_scaled)\n",
        "x_test_interaction=compute_interaction_terms(x_test_scaled,interactions)\n",
        "x_test=np.column_stack((x_test_scaled,x_test_interaction))\n",
        "x_test=sm.add_constant(x_test)\n",
        "#print(x_test)\n",
        "y_pred=model.predict(x_test)\n",
        "print(y_pred)"
      ],
      "metadata": {
        "colab": {
          "base_uri": "https://localhost:8080/"
        },
        "id": "gYvdhKljs0CF",
        "outputId": "1bd181ae-af08-4a50-d6ed-3a7b2bb79e8c"
      },
      "execution_count": 10,
      "outputs": [
        {
          "output_type": "stream",
          "name": "stdout",
          "text": [
            "[[ 0.28089888  0.7        -0.5       ]\n",
            " [-1.          0.62        1.        ]]\n",
            "[153.09216292 187.71833333]\n"
          ]
        }
      ]
    },
    {
      "cell_type": "code",
      "source": [
        "#visualize half effects\n",
        "fig,ax=plt.subplots(figsize=(5,5))\n",
        "x_txt=param_names[1:]\n",
        "y_value=abs(model.params[1:])\n",
        "y_p=model.pvalues[1:]\n",
        "#print(y_p)\n",
        "s_str=['{:.2f}'.format(i) for i in y_value]\n",
        "for i in range(len(s_str)):\n",
        "  if (y_p[i]<0.05):\n",
        "    s_str[i]='*'+s_str[i]\n",
        "print(s_str)\n",
        "ax.bar(x_txt,y_value)\n",
        "for i in range(len(y_value)):\n",
        "  ax.text(x_txt[i],y_value[i]*1.01,s_str[i],ha='center',va='bottom')\n",
        "ax.set_ylabel('Half effects')\n",
        "ax.set_title('* means significant')\n",
        "plt.xticks(rotation=45, ha=\"right\")\n",
        "plt.show()\n"
      ],
      "metadata": {
        "colab": {
          "base_uri": "https://localhost:8080/",
          "height": 497
        },
        "id": "zRyg4GZUd34g",
        "outputId": "6615ba90-2b39-430d-844d-c9c875f59104"
      },
      "execution_count": 11,
      "outputs": [
        {
          "output_type": "stream",
          "name": "stdout",
          "text": [
            "['*14.44', '*41.85', '*14.21', '3.18', '1.39', '*4.88']\n"
          ]
        },
        {
          "output_type": "display_data",
          "data": {
            "text/plain": [
              "<Figure size 500x500 with 1 Axes>"
            ],
            "image/png": "[encoded data removed]"
          },
          "metadata": {}
        }
      ]
    },
    {
      "cell_type": "code",
      "source": [
        "#check residuals\n",
        "x_plot=model.fittedvalues\n",
        "y_plot=model.resid\n",
        "plt.scatter(x_plot,y_plot)\n",
        "plt.xlabel('fitted values')\n",
        "plt.ylabel('residuals')\n",
        "plt.show()"
      ],
      "metadata": {
        "colab": {
          "base_uri": "https://localhost:8080/",
          "height": 453
        },
        "id": "_NfJs5XZnJ02",
        "outputId": "ab9996ef-8aef-4914-ef81-a00dd4634362"
      },
      "execution_count": 12,
      "outputs": [
        {
          "output_type": "display_data",
          "data": {
            "text/plain": [
              "<Figure size 640x480 with 1 Axes>"
            ],
            "image/png": "[encoded data removed]"
          },
          "metadata": {}
        }
      ]
    },
    {
      "cell_type": "code",
      "source": [
        "#calculate parameters for center point runs and base runs\n",
        "#this is a preparation for linearity test\n",
        "X_center=arr_center[:,2:5]\n",
        "y_center=arr_center[:,5]\n",
        "std_err_half_effects=model.bse[0]\n",
        "std_err_full_effects=2*std_err_half_effects\n",
        "num_base=len(y_base)\n",
        "num_center=len(y_center)\n",
        "std_base=(math.sqrt(num_base)/2)*std_err_full_effects\n",
        "dof_base=model.df_resid-1\n",
        "print(dof_base)\n",
        "print(std_base)\n",
        "std_center=np.std(y_center,ddof=1)\n",
        "dof_center=num_center-1\n",
        "print(dof_center)\n",
        "print(std_center)\n",
        "pooled_std=math.sqrt((dof_base*std_base**2+dof_center*std_center**2)/(dof_base+dof_center))\n",
        "print(pooled_std)\n",
        "E_nonlinear=abs(np.mean(y_center)-np.mean(y_base))\n",
        "print(E_nonlinear)\n",
        "std_nonlinear=pooled_std*math.sqrt(1/num_base+1/num_center)\n",
        "print(std_nonlinear)\n",
        "t_nonlinear=E_nonlinear/std_nonlinear\n",
        "print(t_nonlinear)\n",
        "\n"
      ],
      "metadata": {
        "colab": {
          "base_uri": "https://localhost:8080/"
        },
        "id": "Khfcgw1OvuuL",
        "outputId": "0cf51133-7a94-4656-f243-418e7fd85ee5"
      },
      "execution_count": 13,
      "outputs": [
        {
          "output_type": "stream",
          "name": "stdout",
          "text": [
            "16.0\n",
            "9.492101980067433\n",
            "3\n",
            "4.1804106656324285\n",
            "8.867526504938654\n",
            "11.633333333333326\n",
            "4.7890116595638625\n",
            "2.4291720631126585\n"
          ]
        }
      ]
    },
    {
      "cell_type": "code",
      "source": [
        "#linearity test\n",
        "alpha = 0.05  # Two-tailed test (1 - confidence level)\n",
        "critical_t = t.ppf(1 - alpha / 2, (dof_base + dof_center))\n",
        "print(critical_t)\n",
        "DL=critical_t*std_nonlinear\n",
        "print(DL)\n",
        "if (E_nonlinear>DL):\n",
        "  print(\"The system is non_linear\")\n",
        "else:\n",
        "  print(\"The system is linear\")"
      ],
      "metadata": {
        "colab": {
          "base_uri": "https://localhost:8080/"
        },
        "id": "DfacRVBpvufO",
        "outputId": "d4353491-6700-4b30-c135-072cd55dfd94"
      },
      "execution_count": 14,
      "outputs": [
        {
          "output_type": "stream",
          "name": "stdout",
          "text": [
            "2.093024054408263\n",
            "10.023516600308799\n",
            "The system is non_linear\n"
          ]
        }
      ]
    }
  ]
}