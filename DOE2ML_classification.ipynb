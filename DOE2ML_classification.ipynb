{
  "cells": [
    {
      "cell_type": "markdown",
      "metadata": {
        "id": "G9aBmZ2mwheM"
      },
      "source": [
        "# Machine Learning Task 2: binary classification\n",
        "\n",
        "*Updated 9/14/24*\n",
        "\n",
        "We start by loading all the required packages."
      ]
    },
    {
      "cell_type": "code",
      "execution_count": null,
      "metadata": {
        "id": "SHc03x8gvjhW"
      },
      "outputs": [],
      "source": [
        "import matplotlib.pyplot as plt\n",
        "#from mpl_toolkits.mplot3d import Axes3D\n",
        "import numpy as np\n",
        "# reduce display precision on numpy arrays\n",
        "np.set_printoptions(precision=1)\n",
        "import pandas as pd\n",
        "# reduce display precision on pandas dataframes\n",
        "pd.set_option('display.precision', 1)\n",
        "from sklearn import set_config\n",
        "set_config(transform_output=\"pandas\")\n",
        "from sklearn.impute import SimpleImputer\n",
        "from sklearn.preprocessing import OrdinalEncoder\n",
        "from sklearn.preprocessing import PolynomialFeatures\n",
        "from sklearn.preprocessing import StandardScaler\n",
        "from sklearn.linear_model import LogisticRegression\n",
        "from sklearn.dummy import DummyClassifier\n",
        "from sklearn.metrics import confusion_matrix, ConfusionMatrixDisplay\n",
        "from sklearn.metrics import classification_report\n",
        "from sklearn.metrics import precision_recall_curve\n",
        "from sklearn.metrics import roc_curve, roc_auc_score\n",
        "from sklearn.model_selection import train_test_split\n",
        "from sklearn.pipeline import make_pipeline\n",
        "import joblib"
      ]
    },
    {
      "cell_type": "markdown",
      "metadata": {
        "id": "Gxkuh37elhZr"
      },
      "source": [
        "Load the example data file from GitHub first to check the codes. The collective memory about this catapult is stored in another file on GitHub. You can load that file later when you are ready to retrain the model with the most updated data.\n",
        "\n",
        "The example data set ML_Catapult_ABC_sl.csv is a balanced dataset, with roughly equal frequency of 'short' and 'long' labels.  \n",
        "\n",
        "The set ML_Catapult_ABC_sl2.csv has more labes of 'long'.\n",
        "\n",
        "The set ML_Catapult_ABC_sl3.csv has more lables of 'short'."
      ]
    },
    {
      "cell_type": "code",
      "execution_count": null,
      "metadata": {
        "colab": {
          "base_uri": "https://localhost:8080/"
        },
        "id": "vR9_jmu-KLJd",
        "outputId": "14468d62-a21b-45a3-d9a6-0026729b9b71"
      },
      "outputs": [
        {
          "output_type": "stream",
          "name": "stdout",
          "text": [
            "     ID  Combo#  ball_mass  firing_height  band_length short_long\n",
            "0  run1       0       61.3           18.0         41.8      short\n",
            "1  run2       8       94.1           23.0         43.0      short\n",
            "2  run3       3       22.9           23.0         40.6      short\n",
            "3  run4       1       22.9           13.0         40.6      short\n",
            "4  run5       2       22.9           13.0         43.0       long\n",
            "<class 'pandas.core.frame.DataFrame'>\n",
            "RangeIndex: 100 entries, 0 to 99\n",
            "Data columns (total 6 columns):\n",
            " #   Column         Non-Null Count  Dtype  \n",
            "---  ------         --------------  -----  \n",
            " 0   ID             100 non-null    object \n",
            " 1   Combo#         100 non-null    int64  \n",
            " 2   ball_mass      100 non-null    float64\n",
            " 3   firing_height  100 non-null    float64\n",
            " 4   band_length    100 non-null    float64\n",
            " 5   short_long     100 non-null    object \n",
            "dtypes: float64(3), int64(1), object(2)\n",
            "memory usage: 4.8+ KB\n",
            "None\n",
            "       Combo#  ball_mass  firing_height  band_length\n",
            "count   100.0      100.0          100.0        100.0\n",
            "mean      3.1       58.6           14.6         42.9\n",
            "std       3.0       31.4            5.5          5.1\n",
            "min      -1.0       22.9            6.6         33.0\n",
            "25%       0.0       22.9            9.0         40.6\n",
            "50%       3.0       61.3           14.2         42.9\n",
            "75%       6.0       94.1           19.0         46.0\n",
            "max       8.0       94.1           23.0         52.0\n"
          ]
        }
      ],
      "source": [
        "# update the URL below as needed\n",
        "#url='https://raw.githubusercontent.com/yanwu2001/DOE-ML-Public/main/PhysicalCatapult/ML_Catapult_ABC_sl.csv'\n",
        "#url='https://raw.githubusercontent.com/yanwu2001/DOE-ML-Public/main/PhysicalCatapult/ML_Catapult_ABC_sl2.csv'\n",
        "#url='https://raw.githubusercontent.com/yanwu2001/DOE-ML-Public/main/PhysicalCatapult/ML_Catapult_ABC_sl3.csv'\n",
        "#\n",
        "url='https://raw.githubusercontent.com/yanwu2001/DOE-ML-Public/main/PhysicalCatapult/ML_Catapult_ABC_sl3.csv'\n",
        "df=pd.read_csv(url)\n",
        "#\n",
        "print(df.head())\n",
        "print(df.info())\n",
        "print(df.describe())"
      ]
    },
    {
      "cell_type": "markdown",
      "metadata": {
        "id": "dJ1brb1e5SUh"
      },
      "source": [
        "Define input data features and labels.\n",
        "\n",
        "We also need to transform the text label into numbers. The Ordinal Encoder transforms text labels of 'short' and 'long' to 1 and 0.\n",
        "\n",
        "Note: Label encoding is done outside the pipeline because it's applied to the target variable, not the features.\n"
      ]
    },
    {
      "cell_type": "code",
      "execution_count": null,
      "metadata": {
        "colab": {
          "base_uri": "https://localhost:8080/"
        },
        "id": "GfOki9mwnZsy",
        "outputId": "613d055f-b2a1-4a6f-cfac-c87bb5183218"
      },
      "outputs": [
        {
          "output_type": "stream",
          "name": "stdout",
          "text": [
            "   short_long\n",
            "0         1.0\n",
            "1         1.0\n",
            "2         1.0\n",
            "3         1.0\n",
            "4         0.0\n",
            "       short_long\n",
            "count       100.0\n",
            "mean          0.7\n",
            "std           0.5\n",
            "min           0.0\n",
            "25%           0.0\n",
            "50%           1.0\n",
            "75%           1.0\n",
            "max           1.0\n"
          ]
        }
      ],
      "source": [
        "# separate the predictors and the labels\n",
        "# get rid of unrelavent data\n",
        "# define labels\n",
        "ordinal_encoder = OrdinalEncoder()\n",
        "y_data=ordinal_encoder.fit_transform(df[['short_long']])\n",
        "y_data=pd.DataFrame(y_data,columns=['short_long'])\n",
        "#original_data = ordinal_encoder.inverse_transform(y_data) to transform back\n",
        "print(y_data.head())\n",
        "print(y_data.describe())\n",
        "X_data=df.drop(['ID','Combo#','short_long'],axis=1)\n",
        "#impute missing values with the mean of the that attrubute,\n",
        "# also available strategies: \"median\" \"most_frequent\"\n",
        "imputer = SimpleImputer(strategy='mean')\n",
        "X_data = imputer.fit_transform(X_data)"
      ]
    },
    {
      "cell_type": "markdown",
      "metadata": {
        "id": "c9nwQtv2nflj"
      },
      "source": [
        "Splitting data into training, cross-validation, and test sets is a fundamental practice in machine learning to ensure that the models are robust, generalizable, and reliable. It prevents overfitting, provides unbiased performance evaluation, and ensures that the model can be trusted to perform well on new, unseen data."
      ]
    },
    {
      "cell_type": "code",
      "execution_count": null,
      "metadata": {
        "colab": {
          "base_uri": "https://localhost:8080/"
        },
        "id": "0buGlCpaSJP8",
        "outputId": "1dfa9ee9-f484-4c4a-9178-bc044cf5eb6e"
      },
      "outputs": [
        {
          "output_type": "stream",
          "name": "stdout",
          "text": [
            "the shape of the training set (input) is: (60, 3)\n",
            "the shape of the training set (target) is: (60, 1)\n",
            "\n",
            "the shape of the cross validation set (input) is: (20, 3)\n",
            "the shape of the cross validation set (target) is: (20, 1)\n",
            "\n",
            "the shape of the test set (input) is: (20, 3)\n",
            "the shape of the test set (target) is: (20, 1)\n",
            "the first 5 elements in X_train are :\n",
            "     ball_mass  firing_height  band_length\n",
            "86       68.5            7.4         47.3\n",
            "53       94.1           19.0         42.0\n",
            "77       22.9           14.2         33.0\n",
            "15       22.9           13.0         43.0\n",
            "83       61.3           10.4         39.5\n",
            "the first 5 elements in y_train are :\n",
            "     short_long\n",
            "86         1.0\n",
            "53         1.0\n",
            "77         1.0\n",
            "15         0.0\n",
            "83         1.0\n"
          ]
        }
      ],
      "source": [
        "# Split data\n",
        "# Get 60% of the dataset as the training set. Put the remaining 40% in temporary variables: x_ and y_.\n",
        "X_train, X_, y_train, y_ = train_test_split(X_data, y_data, test_size=0.40, random_state=1)\n",
        "\n",
        "# Split the 40% subset above into two: one half for cross validation and the other for the test set\n",
        "X_cv, X_test, y_cv, y_test = train_test_split(X_, y_, test_size=0.50, random_state=1)\n",
        "\n",
        "# Delete temporary variables\n",
        "del X_, y_\n",
        "\n",
        "print(f\"the shape of the training set (input) is: {X_train.shape}\")\n",
        "print(f\"the shape of the training set (target) is: {y_train.shape}\\n\")\n",
        "print(f\"the shape of the cross validation set (input) is: {X_cv.shape}\")\n",
        "print(f\"the shape of the cross validation set (target) is: {y_cv.shape}\\n\")\n",
        "print(f\"the shape of the test set (input) is: {X_test.shape}\")\n",
        "print(f\"the shape of the test set (target) is: {y_test.shape}\")\n",
        "print(\"the first 5 elements in X_train are :\\n\", X_train[:5])\n",
        "print(\"the first 5 elements in y_train are :\\n\", y_train[:5])"
      ]
    },
    {
      "cell_type": "markdown",
      "metadata": {
        "id": "DPPJXsb367r8"
      },
      "source": [
        "\n",
        "Maching learning algorithms do not work perform well when the input numerical attributes have very different scales. We will scale the input so that all data are roughly between -1 to 1. The same scaling rule need to apply for new data or during production in order for the model to work.\n"
      ]
    },
    {
      "cell_type": "code",
      "execution_count": null,
      "metadata": {
        "colab": {
          "base_uri": "https://localhost:8080/"
        },
        "id": "tgohiXYmFMxE",
        "outputId": "7484864a-b509-4e77-cd3a-ee594d5b5461"
      },
      "outputs": [
        {
          "output_type": "stream",
          "name": "stdout",
          "text": [
            "    ball_mass  firing_height  band_length\n",
            "86        0.4           -1.4      9.9e-01\n",
            "53        1.2            0.7     -5.9e-02\n",
            "77       -1.1           -0.2     -1.8e+00\n",
            "15       -1.1           -0.4      1.4e-01\n",
            "83        0.1           -0.8     -5.5e-01\n",
            "(60,)\n",
            "[1. 1. 1. 0. 1.]\n"
          ]
        }
      ],
      "source": [
        "# Create a StandardScaler object for the training set, use the same scaling for all data\n",
        "x_scaler = StandardScaler()\n",
        "X = x_scaler.fit_transform(X_train)\n",
        "print(X.head())\n",
        "#print(X.describe())\n",
        "# NEVER use fit() or fit_transform for anything else than the training set.\n",
        "# to ensure other data (cross-validation; test) use the same tranformer, use transform()\n",
        "\n",
        "y=y_train.values.ravel() # ravel flattens the array\n",
        "print(y.shape)\n",
        "print(y[0:5])\n",
        "\n",
        "#Training data is now X and y."
      ]
    },
    {
      "cell_type": "markdown",
      "metadata": {
        "id": "ktLIqYmQ7rg2"
      },
      "source": [
        "The LogisticRegression class in scikit-learn offers several solvers for optimization. Each solver has different properties and might be more suitable for certain datasets or problem types.\n",
        "\n",
        "Here are the available solvers:\n",
        "\n",
        "'lbfgs': Limited-memory Broyden–Fletcher–Goldfarb–Shanno algorithm. It's often a good choice for smaller datasets and can handle multinomial loss (multi-class problems).\n",
        "\n",
        "'newton-cg': Newton's method with Conjugate Gradient. It's also suitable for smaller datasets and supports multinomial loss.\n",
        "'liblinear': A library for large linear classification. It can handle both L1 and L2 regularization and works well for larger datasets.\n",
        "\n",
        "'sag': Stochastic Average Gradient descent. Efficient for large datasets and supports L2 regularization.\n",
        "\n",
        "'saga': A variant of 'sag' that also supports L1 regularization and elastic-net regularization."
      ]
    },
    {
      "cell_type": "code",
      "execution_count": null,
      "metadata": {
        "colab": {
          "base_uri": "https://localhost:8080/"
        },
        "id": "CBKje51lS8u6",
        "outputId": "1662409e-1518-45f3-d904-27c20f714aba"
      },
      "outputs": [
        {
          "output_type": "stream",
          "name": "stdout",
          "text": [
            "[[ 0.6  0.9 -1.5]]\n",
            "[1.5]\n"
          ]
        }
      ],
      "source": [
        "# model=LogisticRegression().fit(X,y)\n",
        "solvers = ['lbfgs', 'newton-cg', 'liblinear', 'sag', 'saga']\n",
        "# select one of the solvers and use max_iter forsetting iteration times\n",
        "# the code below select lbfgs as the solver and set maximum iteration times to be 2000\n",
        "model = LogisticRegression(solver=solvers[0], max_iter=2000)\n",
        "# train the model, the default cut-off oor threshold value for losgiticregression is 0.5\n",
        "model.fit(X, y)\n",
        "print(model.coef_)\n",
        "print(model.intercept_)\n"
      ]
    },
    {
      "cell_type": "markdown",
      "source": [
        "By default, scikit-learn's LogisticRegression uses a threshold of 0.5 to classify predictions. This means if the predicted probability of a sample belonging to the positive class is greater than or equal to 0.5, it's classified as positive, otherwise negative."
      ],
      "metadata": {
        "id": "v_pRHBYEhSN4"
      }
    },
    {
      "cell_type": "code",
      "source": [
        "# Make predictions on the training data\n",
        "y_pred = model.predict(X)\n",
        "# Get predicted probabilities for the positive class\n",
        "y_pred_proba = model.predict_proba(X)[:, 1]\n",
        "print(y_pred[0:5])\n",
        "print(y_pred_proba[0:5])\n",
        "# The default threshold is 0.5. Predicted probabilities for the positive class are greater than 0.5"
      ],
      "metadata": {
        "colab": {
          "base_uri": "https://localhost:8080/"
        },
        "id": "vjjFmNMPhjKt",
        "outputId": "c93eb9f1-eea6-4aea-c1d5-c8f921ac6c83"
      },
      "execution_count": null,
      "outputs": [
        {
          "output_type": "stream",
          "name": "stdout",
          "text": [
            "[0. 1. 1. 1. 1.]\n",
            "[0.3 0.9 1.  0.6 0.9]\n"
          ]
        }
      ]
    },
    {
      "cell_type": "markdown",
      "source": [
        "There are several metrics to evaluate a classification model.  Here's a detailed explanation of each metric.\n",
        "\n",
        "1. Accuracy: The ratio of crrectly predicted instances to the total instances. Accuracy is useful when the classes are balanced, meaning there are an equal number of instances in each class. It gives a quick overall measure of how well the model is performing.\n",
        "\n",
        "2. Precision: The ratio of correctly predicted positive instances to the total predicted positive instances. Precision is important when the cost of false positives is high. For example, in spam detection, a false positive means a legitimate email is marked as spam, which is undesirable.\n",
        "\n",
        "3. Recall (Sensitivity or True Positive Rate): The ratio of correctly predicted positive instances to all actual positive instances.  Recall is important when the cost of false negatives is high. For instance, in medical diagnosis, a false negative means a condition goes undetected, which can be dangerous.\n",
        "\n",
        "4.  F1-Score: The harmonic mean of precision and recall, providing a balance between the two.  F1-Score is useful when you need a balance between precision and recall, especially when the classes are imbalanced. It’s a good metric to use when you have an uneven class distribution.\n",
        "\n",
        "\n",
        "A confusion matrix is a table used to evaluate the performance of a classification algorithm, particularly in machine learning and statistics. It summarizes the outcomes of predictions against the actual class labels for a dataset, helping to visualize how well the model is performing. The output format of the confusion matrix in sklearn is\n",
        "\n",
        "[[TN FP]\n",
        "\n",
        "[FN TP]]\n",
        "\n",
        "\n",
        "True Positives (TP): The number of instances where the classifier correctly predicted the positive class. False Positives (FP): The number of instances where the classifier incorrectly predicted the positive class (also known as Type I error). False Negatives (FN): The number of instances where the classifier incorrectly predicted the negative class (also known as Type II error). True Negatives (TN): The number of instances where the classifier correctly predicted the negative class."
      ],
      "metadata": {
        "id": "gHrcbFfbiUH-"
      }
    },
    {
      "cell_type": "code",
      "execution_count": 10,
      "metadata": {
        "colab": {
          "base_uri": "https://localhost:8080/",
          "height": 687
        },
        "id": "ZB7FrXhKT2Is",
        "outputId": "4c5ca464-0852-4d53-e570-cc5db3609d54"
      },
      "outputs": [
        {
          "output_type": "stream",
          "name": "stdout",
          "text": [
            "Classification report on training set:\n",
            "              precision    recall  f1-score   support\n",
            "\n",
            "         0.0       0.64      0.44      0.52        16\n",
            "         1.0       0.82      0.91      0.86        44\n",
            "\n",
            "    accuracy                           0.78        60\n",
            "   macro avg       0.73      0.67      0.69        60\n",
            "weighted avg       0.77      0.78      0.77        60\n",
            "\n",
            "Confusion Matrix:\n",
            "[[ 7  9]\n",
            " [ 4 40]]\n"
          ]
        },
        {
          "output_type": "display_data",
          "data": {
            "text/plain": [
              "<Figure size 640x480 with 2 Axes>"
            ],
            "image/png": "[encoded data removed]"
          },
          "metadata": {}
        }
      ],
      "source": [
        "#\n",
        "# Evaluate the model on training data (example: classification report and confusion matrix)\n",
        "report = classification_report(y, y_pred)\n",
        "print(\"Classification report on training set:\")\n",
        "print(report)\n",
        "# Calculate the confusion matrix\n",
        "cm = confusion_matrix(y, y_pred)\n",
        "# Print the confusion matrix\n",
        "print(\"Confusion Matrix:\")\n",
        "print(cm)\n",
        "disp = ConfusionMatrixDisplay(confusion_matrix=cm, display_labels=['Class 0', 'Class 1'])\n",
        "disp.plot()\n",
        "plt.show()"
      ]
    },
    {
      "cell_type": "markdown",
      "metadata": {
        "id": "5p_Ba085tfop"
      },
      "source": [
        "The DummyClassifier in scikit-learn provides several strategies for generating baseline predictions. These strategies determine how the dummy classifier makes predictions without considering the input features.\n",
        "\n",
        "Using the stragety 'most_frequent', the DummyClassifer predicts the most frequent class in the training set. It is useful for establishing baseline performance and comparing the performance of your actual models against simple strategies.\n",
        "\n"
      ]
    },
    {
      "cell_type": "code",
      "execution_count": 11,
      "metadata": {
        "colab": {
          "base_uri": "https://localhost:8080/"
        },
        "id": "Ycx0kT5lHQCB",
        "outputId": "6cb38ada-c01f-4015-87ae-7c728d99dcc6"
      },
      "outputs": [
        {
          "output_type": "stream",
          "name": "stdout",
          "text": [
            "Classification report on training set using a dummy classifier:\n",
            "              precision    recall  f1-score   support\n",
            "\n",
            "         0.0       0.00      0.00      0.00        16\n",
            "         1.0       0.73      1.00      0.85        44\n",
            "\n",
            "    accuracy                           0.73        60\n",
            "   macro avg       0.37      0.50      0.42        60\n",
            "weighted avg       0.54      0.73      0.62        60\n",
            "\n",
            "Confusion Matrix:\n",
            "[[ 0 16]\n",
            " [ 0 44]]\n"
          ]
        },
        {
          "output_type": "stream",
          "name": "stderr",
          "text": [
            "/usr/local/lib/python3.10/dist-packages/sklearn/metrics/_classification.py:1471: UndefinedMetricWarning: Precision and F-score are ill-defined and being set to 0.0 in labels with no predicted samples. Use `zero_division` parameter to control this behavior.\n",
            "  _warn_prf(average, modifier, msg_start, len(result))\n",
            "/usr/local/lib/python3.10/dist-packages/sklearn/metrics/_classification.py:1471: UndefinedMetricWarning: Precision and F-score are ill-defined and being set to 0.0 in labels with no predicted samples. Use `zero_division` parameter to control this behavior.\n",
            "  _warn_prf(average, modifier, msg_start, len(result))\n",
            "/usr/local/lib/python3.10/dist-packages/sklearn/metrics/_classification.py:1471: UndefinedMetricWarning: Precision and F-score are ill-defined and being set to 0.0 in labels with no predicted samples. Use `zero_division` parameter to control this behavior.\n",
            "  _warn_prf(average, modifier, msg_start, len(result))\n"
          ]
        }
      ],
      "source": [
        "dummy_clf = DummyClassifier(strategy=\"most_frequent\")\n",
        "dummy_clf.fit(X, y)\n",
        "y_pred_dummy = dummy_clf.predict(X)\n",
        "report = classification_report(y, y_pred_dummy)\n",
        "print(\"Classification report on training set using a dummy classifier:\")\n",
        "print(report)\n",
        "# Calculate the confusion matrix\n",
        "cm = confusion_matrix(y, y_pred_dummy)\n",
        "# Print the confusion matrix\n",
        "print(\"Confusion Matrix:\")\n",
        "print(cm)"
      ]
    },
    {
      "cell_type": "markdown",
      "metadata": {
        "id": "wYrp1QOqOBDp"
      },
      "source": [
        "Note: If a training set has more negative labels than positive labels, a DummyClassifer will always predict negative.  Thus precision and F1 score are ill-defined in this situation.\n"
      ]
    },
    {
      "cell_type": "code",
      "execution_count": 12,
      "metadata": {
        "colab": {
          "base_uri": "https://localhost:8080/",
          "height": 928
        },
        "id": "Ha6TIImrs7eZ",
        "outputId": "03e39bd5-6704-45d5-ca88-eff40d8f7c69"
      },
      "outputs": [
        {
          "output_type": "display_data",
          "data": {
            "text/plain": [
              "<Figure size 640x480 with 1 Axes>"
            ],
            "image/png": "[encoded data removed]"
          },
          "metadata": {}
        },
        {
          "output_type": "execute_result",
          "data": {
            "text/plain": [
              "(0.0, 1.0)"
            ]
          },
          "metadata": {},
          "execution_count": 12
        },
        {
          "output_type": "display_data",
          "data": {
            "text/plain": [
              "<Figure size 640x480 with 1 Axes>"
            ],
            "image/png": "[encoded data removed]"
          },
          "metadata": {}
        }
      ],
      "source": [
        "# Calculate precision and recall values\n",
        "precision, recall, thresholds = precision_recall_curve(y, y_pred_proba)\n",
        "#print(precision)\n",
        "#print(recall)\n",
        "#print(thresholds)\n",
        "\n",
        "# Plot the precision-recall curve\n",
        "plt.plot(recall, precision, marker='.')\n",
        "plt.xlabel('Recall')\n",
        "plt.ylabel('Precision')\n",
        "plt.title('Precision-Recall Curve')\n",
        "plt.show()\n",
        "plt.plot(thresholds, precision[:-1], \"b--\", label=\"Precision\", linewidth=2)\n",
        "plt.plot(thresholds, recall[:-1], \"g-\", label=\"Recall\", linewidth=2)\n",
        "plt.vlines(0.5, 0.0, 1.0, \"k\", linestyle=\"dotted\", label=\"Threshold\")\n",
        "plt.legend(loc=\"upper left\")\n",
        "plt.ylim([0, 1])\n",
        "plt.xlabel(\"Threshold\")\n",
        "plt.legend(loc=\"upper left\")\n",
        "plt.ylim([0, 1])\n"
      ]
    },
    {
      "cell_type": "markdown",
      "metadata": {
        "id": "sZnVFnT-i9KT"
      },
      "source": [
        "The Precision-Recall (PR) curve is particularly useful for evaluating and selecting a threshold for classifiers when dealing with imbalanced datasets. The curve typically shows a trade-off between Precision and Recall. As you increase Recall, Precision usually decreases, and vice versa. An ideal classifier would have both high Precision and high Recall, resulting in a curve that hugs the top-right corner. If you need high Precision (minimizing false positives), select a threshold that corresponds to a point on the curve where Precision is high, even if Recall is lower.\n",
        "If you need high Recall (minimizing false negatives), select a threshold where Recall is high, even if Precision is lower.\n",
        "Suppose you are building a logistic regression model to classify fraudulent transactions. Since false positives (flagging a legitimate transaction as fraud) can be costly, you may prefer a threshold that maintains high Precision, even if it means missing some fraudulent transactions (lower Recall). By examining the PR curve, you can find a threshold that best meets this criterion.\n",
        "One common way to select a threshold is to maximize the F1 score, which is the harmonic mean of Precision and Recall.\n",
        "The threshold that maximizes the F1 score can be seen as a balanced trade-off between Precision and Recall.\n"
      ]
    },
    {
      "cell_type": "code",
      "execution_count": 13,
      "metadata": {
        "colab": {
          "base_uri": "https://localhost:8080/",
          "height": 472
        },
        "id": "bOLEpn0iuIfF",
        "outputId": "414867fd-8b82-4aec-d5fb-71f51739a696"
      },
      "outputs": [
        {
          "output_type": "display_data",
          "data": {
            "text/plain": [
              "<Figure size 640x480 with 1 Axes>"
            ],
            "image/png": "[encoded data removed]"
          },
          "metadata": {}
        }
      ],
      "source": [
        "# Calculate the ROC curve\n",
        "fpr, tpr, thresholds = roc_curve(y, y_pred_proba)\n",
        "\n",
        "# Calculate the AUC (Area Under the Curve)\n",
        "roc_auc = roc_auc_score(y, y_pred_proba)\n",
        "\n",
        "# Plot the ROC curve\n",
        "plt.plot(fpr, tpr, label='ROC curve (area = %0.2f)' % roc_auc)\n",
        "plt.plot([0, 1], [0, 1], 'k--')  # Diagonal line representing random classifier\n",
        "plt.xlim([0.0, 1.0])\n",
        "plt.ylim([0.0, 1.05])\n",
        "plt.xlabel('False Positive Rate')\n",
        "plt.ylabel('True Positive Rate')\n",
        "plt.title('Receiver Operating Characteristic')\n",
        "plt.legend(loc=\"lower right\")\n",
        "plt.show()"
      ]
    },
    {
      "cell_type": "markdown",
      "metadata": {
        "id": "8umcQ1NzitE0"
      },
      "source": [
        "The Receiver Operating Characteristic (ROC) curve is a graphical representation used to evaluate the performance of a binary classifier. True Positive Rate (TPR, also known as Sensitivity or Recall) is the proportion of actual positives that are correctly identified by the classifier. False Positive Rate (FPR) is the proportion of actual negatives that are incorrectly identified as positives by the classifier. The ROC curve is plotted with the FPR on the x-axis and the TPR on the y-axis.\n",
        "Each point on the ROC curve represents a different threshold that can be set to classify instances as positive or negative. By varying this threshold, you get different TPR and FPR values. A curve that hugs the top-left corner indicates a high TPR with a low FPR, which is desirable.\n",
        "The most common way to evaluate the ROC curve is by calculating the Area Under the Curve (AUC). The AUC value ranges from 0 to 1:\n",
        "AUC = 1: Perfect classifier.\n",
        "AUC = 0.5: Classifier with no discrimination ability (random guessing).\n",
        "AUC < 0.5: Worse than random guessing."
      ]
    },
    {
      "cell_type": "markdown",
      "source": [
        "Next, we'll check the model by making predictions on the cross validation data."
      ],
      "metadata": {
        "id": "7-0C1r1ZtTg8"
      }
    },
    {
      "cell_type": "code",
      "execution_count": 15,
      "metadata": {
        "colab": {
          "base_uri": "https://localhost:8080/"
        },
        "id": "YIu9jx2hbsOK",
        "outputId": "0545b96b-1278-4d35-ff5c-f67f8281770d"
      },
      "outputs": [
        {
          "output_type": "stream",
          "name": "stdout",
          "text": [
            "Classification report for validation set:\n",
            "              precision    recall  f1-score   support\n",
            "\n",
            "         0.0       0.70      0.88      0.78         8\n",
            "         1.0       0.90      0.75      0.82        12\n",
            "\n",
            "    accuracy                           0.80        20\n",
            "   macro avg       0.80      0.81      0.80        20\n",
            "weighted avg       0.82      0.80      0.80        20\n",
            "\n",
            "Confusion Matrix for validation set:\n",
            "[[7 1]\n",
            " [3 9]]\n"
          ]
        }
      ],
      "source": [
        "# Make predictions on the cross validation data\n",
        "# Make predictions on the cross validation data\n",
        "# First, scale the cross-validation data (as we did above, with training data)\n",
        "#  --> but this time, we use the transform object.\n",
        "X_scaled_cv = x_scaler.transform(X_cv)\n",
        "\n",
        "# Second, make the predictions by applying the model to the scaled CV data\n",
        "y_pred = model.predict(X_scaled_cv)\n",
        "# make prediction at cut-off/threshold =0.5\n",
        "# Evaluate the model on validation data (example: classification report)\n",
        "report = classification_report(y_cv, y_pred)\n",
        "print(\"Classification report for validation set:\")\n",
        "print(report)\n",
        "# Calculate the confusion matrix\n",
        "cm = confusion_matrix(y_cv, y_pred)\n",
        "# Print the confusion matrix\n",
        "print(\"Confusion Matrix for validation set:\")\n",
        "print(cm)"
      ]
    },
    {
      "cell_type": "markdown",
      "source": [
        "By default, scikit-learn's LogisticRegression uses a threshold of 0.5 to classify predictions. This means if the predicted probability of a sample belonging to the positive class is greater than or equal to 0.5, it's classified as positive, otherwise negative. If you want to change the threshold, you'll need to manually adjust it when making predictions, as shown in the example below."
      ],
      "metadata": {
        "id": "VSc1HTlIrZyY"
      }
    },
    {
      "cell_type": "code",
      "execution_count": 14,
      "metadata": {
        "colab": {
          "base_uri": "https://localhost:8080/"
        },
        "id": "R1saPJaJWNTN",
        "outputId": "d7106c2c-7af5-44de-e936-c4af2d32db6b"
      },
      "outputs": [
        {
          "output_type": "stream",
          "name": "stdout",
          "text": [
            "Classification report on training set at threshold of 0.6:\n",
            "              precision    recall  f1-score   support\n",
            "\n",
            "         0.0       0.78      0.88      0.82        16\n",
            "         1.0       0.95      0.91      0.93        44\n",
            "\n",
            "    accuracy                           0.90        60\n",
            "   macro avg       0.87      0.89      0.88        60\n",
            "weighted avg       0.91      0.90      0.90        60\n",
            "\n",
            "Confusion Matrix of training set at threshold of 0.6:\n",
            "[[14  2]\n",
            " [ 4 40]]\n"
          ]
        }
      ],
      "source": [
        "# Example: Set a different threshold; use a threshold of 0.6, here\n",
        "\n",
        "# use predict_proba to get the predicted probabilities\n",
        "y_prob=model.predict_proba(X)[:,1]\n",
        "# Apply threshold to convert probabilities into predictions\n",
        "threshold = 0.6\n",
        "y_pred = (y_prob >= threshold).astype(int)\n",
        "\n",
        "# Evaluate the model on training data (example: classification report)\n",
        "report = classification_report(y_train, y_pred, zero_division=1)\n",
        "print(\"Classification report on training set at threshold of 0.6:\")\n",
        "print(report)\n",
        "# Calculate the confusion matrix\n",
        "cm = confusion_matrix(y, y_pred)\n",
        "# Print the confusion matrix\n",
        "print(\"Confusion Matrix of training set at threshold of 0.6:\")\n",
        "print(cm)"
      ]
    },
    {
      "cell_type": "code",
      "execution_count": 16,
      "metadata": {
        "colab": {
          "base_uri": "https://localhost:8080/"
        },
        "id": "K9KvyFzD1Ijo",
        "outputId": "c60a2ae9-6052-40df-d69a-07d34ec9035c"
      },
      "outputs": [
        {
          "output_type": "stream",
          "name": "stdout",
          "text": [
            "Classification report on validation set at threshold of 0.6:\n",
            "              precision    recall  f1-score   support\n",
            "\n",
            "         0.0       0.73      1.00      0.84         8\n",
            "         1.0       1.00      0.75      0.86        12\n",
            "\n",
            "    accuracy                           0.85        20\n",
            "   macro avg       0.86      0.88      0.85        20\n",
            "weighted avg       0.89      0.85      0.85        20\n",
            "\n",
            "Confusion Matrix of validation set at threshold of 0.6:\n",
            "[[8 0]\n",
            " [3 9]]\n"
          ]
        }
      ],
      "source": [
        "#  Using a threshold of 0.6 for validation set\n",
        "y_pred = (model.predict_proba(X_scaled_cv)[:, 1] >= 0.6).astype(int)\n",
        "# Evaluate the model on training data (example: classification report)\n",
        "report = classification_report(y_cv, y_pred)\n",
        "print(\"Classification report on validation set at threshold of 0.6:\")\n",
        "print(report)\n",
        "# Calculate the confusion matrix\n",
        "cm = confusion_matrix(y_cv, y_pred)\n",
        "# Print the confusion matrix\n",
        "print(\"Confusion Matrix of validation set at threshold of 0.6:\")\n",
        "print(cm)"
      ]
    },
    {
      "cell_type": "markdown",
      "metadata": {
        "id": "LXwQ4feJPYxw"
      },
      "source": [
        "To streamline our process, make a pipeline of the model and check the output. The code below trains a 1st order model and the output is the same as before for a threshold of 0.5."
      ]
    },
    {
      "cell_type": "code",
      "execution_count": null,
      "metadata": {
        "colab": {
          "base_uri": "https://localhost:8080/"
        },
        "id": "gtvCmzG_JGdP",
        "outputId": "30547425-2b46-424e-ce6f-3304fccbc73d"
      },
      "outputs": [
        {
          "name": "stdout",
          "output_type": "stream",
          "text": [
            "the fitting parameters for the 1st order model are:\n",
            "\n",
            "the weights are  [[ 0.7  1.6 -2.1]]\n",
            "the intercept is [0.3]\n",
            "Classification report on training set:\n",
            "              precision    recall  f1-score   support\n",
            "\n",
            "         0.0       0.92      0.85      0.88        26\n",
            "         1.0       0.89      0.94      0.91        34\n",
            "\n",
            "    accuracy                           0.90        60\n",
            "   macro avg       0.90      0.89      0.90        60\n",
            "weighted avg       0.90      0.90      0.90        60\n",
            "\n",
            "Confusion Matrix:\n",
            "[[22  4]\n",
            " [ 2 32]]\n"
          ]
        },
        {
          "name": "stderr",
          "output_type": "stream",
          "text": [
            "/usr/local/lib/python3.10/dist-packages/sklearn/utils/validation.py:1183: DataConversionWarning: A column-vector y was passed when a 1d array was expected. Please change the shape of y to (n_samples, ), for example using ravel().\n",
            "  y = column_or_1d(y, warn=True)\n"
          ]
        }
      ],
      "source": [
        "preprocessing=make_pipeline(PolynomialFeatures(degree=1,include_bias=False),StandardScaler())\n",
        "model=LogisticRegression(solver=solvers[0], max_iter=2000)\n",
        "train_pipe=make_pipeline(preprocessing,model)\n",
        "train_pipe.fit(X_train,y_train)\n",
        "print(\"the fitting parameters for the 1st order model are:\\n\")\n",
        "print(\"the weights are \", train_pipe[-1].coef_)\n",
        "print(\"the intercept is\", train_pipe[-1].intercept_)\n",
        "y_pred_tr=train_pipe.predict(X_train)\n",
        "report = classification_report(y_train, y_pred_tr)\n",
        "print(\"Classification report on training set:\")\n",
        "print(report)\n",
        "# Calculate the confusion matrix\n",
        "cm = confusion_matrix(y_train, y_pred_tr)\n",
        "# Print the confusion matrix\n",
        "print(\"Confusion Matrix:\")\n",
        "print(cm)"
      ]
    },
    {
      "cell_type": "markdown",
      "metadata": {
        "id": "wpw3UmfgQF5L"
      },
      "source": [
        "Will a 2nd order model works better? We can use the following to check."
      ]
    },
    {
      "cell_type": "code",
      "execution_count": 17,
      "metadata": {
        "colab": {
          "base_uri": "https://localhost:8080/"
        },
        "id": "B3IR2UJfg34-",
        "outputId": "9115cd56-1d32-4286-dd30-ba310ab60b10"
      },
      "outputs": [
        {
          "output_type": "stream",
          "name": "stdout",
          "text": [
            "the fitting parameters for the 2nd order model are:\n",
            "\n",
            "the weights are  [[ 0.3  1.  -0.2  0.3 -0.1  0.2  1.  -1.  -0.2]]\n",
            "the intercept is [1.6]\n",
            "Classification report on training set:\n",
            "              precision    recall  f1-score   support\n",
            "\n",
            "         0.0       0.80      0.75      0.77        16\n",
            "         1.0       0.91      0.93      0.92        44\n",
            "\n",
            "    accuracy                           0.88        60\n",
            "   macro avg       0.86      0.84      0.85        60\n",
            "weighted avg       0.88      0.88      0.88        60\n",
            "\n",
            "Confusion Matrix:\n",
            "[[12  4]\n",
            " [ 3 41]]\n"
          ]
        },
        {
          "output_type": "stream",
          "name": "stderr",
          "text": [
            "/usr/local/lib/python3.10/dist-packages/sklearn/utils/validation.py:1183: DataConversionWarning: A column-vector y was passed when a 1d array was expected. Please change the shape of y to (n_samples, ), for example using ravel().\n",
            "  y = column_or_1d(y, warn=True)\n"
          ]
        }
      ],
      "source": [
        "preprocessing=make_pipeline(PolynomialFeatures(degree=2,include_bias=False),StandardScaler(),OrdinalEncoder())\n",
        "model=LogisticRegression(solver=solvers[0], max_iter=2000)\n",
        "train_pipe=make_pipeline(preprocessing,model)\n",
        "train_pipe.fit(X_train,y_train)\n",
        "print(\"the fitting parameters for the 2nd order model are:\\n\")\n",
        "print(\"the weights are \", train_pipe[-1].coef_)\n",
        "print(\"the intercept is\", train_pipe[-1].intercept_)\n",
        "y_pred_tr=train_pipe.predict(X_train)\n",
        "report = classification_report(y_train, y_pred_tr)\n",
        "print(\"Classification report on training set:\")\n",
        "print(report)\n",
        "# Calculate the confusion matrix\n",
        "cm = confusion_matrix(y_train, y_pred_tr)\n",
        "# Print the confusion matrix\n",
        "print(\"Confusion Matrix:\")\n",
        "print(cm)\n"
      ]
    },
    {
      "cell_type": "code",
      "execution_count": 18,
      "metadata": {
        "colab": {
          "base_uri": "https://localhost:8080/"
        },
        "id": "m0PNjgEsjDrt",
        "outputId": "bf0a4af7-04f4-4cdc-cb57-d919f0e331c0"
      },
      "outputs": [
        {
          "output_type": "stream",
          "name": "stdout",
          "text": [
            "Classification report for validation set:\n",
            "              precision    recall  f1-score   support\n",
            "\n",
            "         0.0       0.86      0.75      0.80         8\n",
            "         1.0       0.85      0.92      0.88        12\n",
            "\n",
            "    accuracy                           0.85        20\n",
            "   macro avg       0.85      0.83      0.84        20\n",
            "weighted avg       0.85      0.85      0.85        20\n",
            "\n",
            "Confusion Matrix for validation set:\n",
            "[[ 6  2]\n",
            " [ 1 11]]\n"
          ]
        }
      ],
      "source": [
        "y_pred_cv=train_pipe.predict(X_cv)\n",
        "report = classification_report(y_cv, y_pred_cv)\n",
        "print(\"Classification report for validation set:\")\n",
        "print(report)\n",
        "# Calculate the confusion matrix\n",
        "cm = confusion_matrix(y_cv, y_pred_cv)\n",
        "# Print the confusion matrix\n",
        "print(\"Confusion Matrix for validation set:\")\n",
        "print(cm)\n",
        "\n"
      ]
    },
    {
      "cell_type": "markdown",
      "metadata": {
        "id": "c-alIjFZQaZB"
      },
      "source": [
        "We can see the second order model does not enhance the model performance significantly."
      ]
    },
    {
      "cell_type": "code",
      "execution_count": 19,
      "metadata": {
        "colab": {
          "base_uri": "https://localhost:8080/"
        },
        "id": "8tuLYi2Y17Zj",
        "outputId": "43d2861b-34c0-4fcf-b31a-1288ce0cc073"
      },
      "outputs": [
        {
          "output_type": "stream",
          "name": "stdout",
          "text": [
            "Classification report on test set:\n",
            "              precision    recall  f1-score   support\n",
            "\n",
            "         0.0       1.00      0.50      0.67         8\n",
            "         1.0       0.75      1.00      0.86        12\n",
            "\n",
            "    accuracy                           0.80        20\n",
            "   macro avg       0.88      0.75      0.76        20\n",
            "weighted avg       0.85      0.80      0.78        20\n",
            "\n",
            "Confusion Matrix:\n",
            "[[ 4  4]\n",
            " [ 0 12]]\n"
          ]
        },
        {
          "output_type": "stream",
          "name": "stderr",
          "text": [
            "/usr/local/lib/python3.10/dist-packages/sklearn/utils/validation.py:1183: DataConversionWarning: A column-vector y was passed when a 1d array was expected. Please change the shape of y to (n_samples, ), for example using ravel().\n",
            "  y = column_or_1d(y, warn=True)\n"
          ]
        }
      ],
      "source": [
        "# Select 1st order model as the final ML model\n",
        "preprocessing=make_pipeline(PolynomialFeatures(degree=1,include_bias=False),StandardScaler())\n",
        "model=LogisticRegression(solver=solvers[0], max_iter=2000)\n",
        "train_pipe=make_pipeline(preprocessing,model)\n",
        "train_pipe.fit(X_train,y_train)\n",
        "y_pred_t=train_pipe.predict(X_test)\n",
        "#print(y_pred_t)\n",
        "#print(y_test)\n",
        "report = classification_report(y_test, y_pred_t)\n",
        "print(\"Classification report on test set:\")\n",
        "print(report)\n",
        "# Calculate the confusion matrix\n",
        "cm = confusion_matrix(y_test, y_pred_t)\n",
        "# Print the confusion matrix\n",
        "print(\"Confusion Matrix:\")\n",
        "print(cm)\n",
        "\n"
      ]
    },
    {
      "cell_type": "code",
      "execution_count": 20,
      "metadata": {
        "colab": {
          "base_uri": "https://localhost:8080/"
        },
        "id": "speyzerw375O",
        "outputId": "b6588150-2403-441c-db19-a111a5c9a37b"
      },
      "outputs": [
        {
          "output_type": "execute_result",
          "data": {
            "text/plain": [
              "['physical_catapult_classification.pkl']"
            ]
          },
          "metadata": {},
          "execution_count": 20
        }
      ],
      "source": [
        "joblib.dump(train_pipe, 'physical_catapult_classification.pkl')"
      ]
    },
    {
      "cell_type": "code",
      "execution_count": 21,
      "metadata": {
        "colab": {
          "base_uri": "https://localhost:8080/"
        },
        "id": "K6nIy_aS4JL-",
        "outputId": "c3ff36bc-74e1-434e-95d3-8914108e8d0c"
      },
      "outputs": [
        {
          "output_type": "stream",
          "name": "stdout",
          "text": [
            "first 5 data points\n",
            "    ball_mass  firing_height  band_length\n",
            "33       94.1            9.0         42.0\n",
            "99       22.9           22.1         43.0\n",
            "81       94.1            6.6         33.0\n",
            "73       94.1            6.6         46.0\n",
            "27       61.3           18.0         41.8\n",
            "the predicted class\n",
            "[['short']\n",
            " ['short']\n",
            " ['short']\n",
            " ['long']\n",
            " ['short']]\n",
            "the actual class\n",
            "[['long']\n",
            " ['short']\n",
            " ['short']\n",
            " ['long']\n",
            " ['short']]\n"
          ]
        }
      ],
      "source": [
        "final_model=joblib.load('physical_catapult_classification.pkl')\n",
        "print(\"first 5 data points\")\n",
        "print(X_test.head())\n",
        "print(\"the predicted class\")\n",
        "y_pred_t=final_model.predict(X_test)\n",
        "y_pred=ordinal_encoder.inverse_transform(y_pred_t.reshape(-1,1))\n",
        "y_test_t=ordinal_encoder.inverse_transform(y_test)\n",
        "print(y_pred[0:5])\n",
        "print(\"the actual class\")\n",
        "print(y_test_t[0:5])"
      ]
    }
  ],
  "metadata": {
    "colab": {
      "provenance": []
    },
    "kernelspec": {
      "display_name": "Python 3",
      "name": "python3"
    },
    "language_info": {
      "name": "python"
    }
  },
  "nbformat": 4,
  "nbformat_minor": 0
}