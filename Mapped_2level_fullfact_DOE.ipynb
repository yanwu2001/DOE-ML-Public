{
  "nbformat": 4,
  "nbformat_minor": 0,
  "metadata": {
    "colab": {
      "provenance": []
    },
    "kernelspec": {
      "name": "python3",
      "display_name": "Python 3"
    },
    "language_info": {
      "name": "python"
    }
  },
  "cells": [
    {
      "cell_type": "markdown",
      "source": [
        "# 2 level full factorial DOE creator\n",
        "\n",
        "*Updated 8/25/24*\n",
        "\n",
        "Skip to block#6 to enter your factors and levels, then run from the beginning"
      ],
      "metadata": {
        "id": "l6D934jDgdsN"
      }
    },
    {
      "cell_type": "code",
      "execution_count": null,
      "metadata": {
        "id": "Lnfnzl2VRJNt"
      },
      "outputs": [],
      "source": [
        "import matplotlib.pyplot as plt\n",
        "from mpl_toolkits.mplot3d import Axes3D\n",
        "import numpy as np\n",
        "import pandas as pd\n",
        "import itertools\n",
        "import math\n",
        "import statsmodels.api as sm"
      ]
    },
    {
      "cell_type": "code",
      "source": [
        "def number_to_binary(number, length):\n",
        "  \"\"\"Converts a number to its binary representation with a specified length.\n",
        "\n",
        "  Args:\n",
        "    number: The number to convert to binary.\n",
        "    length: The desired length of the binary string.\n",
        "\n",
        "  Returns:\n",
        "    A string representing the binary form of the number with the given length.\n",
        "  \"\"\"\n",
        "  binary_string = format(number, '0' + str(length) + 'b')\n",
        "  return binary_string"
      ],
      "metadata": {
        "id": "5wN0Vk3zD1aR"
      },
      "execution_count": null,
      "outputs": []
    },
    {
      "cell_type": "code",
      "source": [
        "def linear_mapping(vector,old_range,new_range):\n",
        "  return (vector-old_range[0])/(old_range[1]-old_range[0])*(new_range[1]-new_range[0])+new_range[0]"
      ],
      "metadata": {
        "id": "0L2XU9cIyfRs"
      },
      "execution_count": null,
      "outputs": []
    },
    {
      "cell_type": "code",
      "source": [
        "def create_2level_full_factorial_design(factor_num, replication,randomize,center_point):\n",
        "    # Create a 2-level full factorial design\n",
        "    # factor_num, replication are integers, return an array of coded experiment plan\n",
        "    combo_num=2**factor_num\n",
        "    combo=np.arange(1,combo_num+1)\n",
        "    total_num=combo_num*factor_num\n",
        "    if center_point:\n",
        "      total_num=total_num+factor_num+1\n",
        "    plan=np.zeros((total_num,factor_num+1))\n",
        "    for j in range (replication):\n",
        "      if randomize:\n",
        "        combo=np.random.permutation(combo)\n",
        "      design=np.zeros((combo_num,factor_num))\n",
        "      for i in range(combo_num):\n",
        "        number =combo[i]-1\n",
        "        binary_string = number_to_binary(number, factor_num)\n",
        "        run = [int(bit) for bit in binary_string]\n",
        "        design[i,:]=run\n",
        "      design = design*2-1\n",
        "      merged_array = np.column_stack((combo, design))\n",
        "      if center_point:\n",
        "        plan[j*combo_num+1*(j+1):(j+1)*combo_num+1*(j+1),:]=merged_array\n",
        "      else:\n",
        "        plan[j*combo_num:(j+1)*combo_num,:]=merged_array\n",
        "    return plan"
      ],
      "metadata": {
        "id": "nv6F7PdbSV1r"
      },
      "execution_count": null,
      "outputs": []
    },
    {
      "cell_type": "code",
      "source": [
        "def map_factors_to_ranges(factors, factor_ranges,plan_arr):\n",
        "  arr=plan_arr[:,1:]\n",
        "  mapped_arr=np.zeros((len(arr),len(factors)))\n",
        "  #print(arr)\n",
        "  for i in range(len(factors)):\n",
        "    mapped_arr[:,i]=linear_mapping(arr[:,i],[-1,1],factor_ranges[i])\n",
        "  #print(mapped_arr)\n",
        "  plan_arr=np.column_stack((plan_arr[:,0],mapped_arr))\n",
        "  return plan_arr"
      ],
      "metadata": {
        "id": "utnYKGiIIOKY"
      },
      "execution_count": null,
      "outputs": []
    },
    {
      "cell_type": "markdown",
      "source": [
        "This is the place you input the factors and their levels for the design.  It creates an Excel spreadsheet for a coded 2-level full factorial design."
      ],
      "metadata": {
        "id": "PQmHOe_7evvM"
      }
    },
    {
      "cell_type": "code",
      "source": [
        "factors = ['A', 'B', 'C']\n",
        "factor_ranges=[[22.9,94.1],[13,23],[40.6,43]]\n",
        "replication=3\n",
        "center_point=True\n",
        "randomize=True\n",
        "factor_num=len(factors)\n",
        "plan_arr = create_2level_full_factorial_design(factor_num, replication,randomize,center_point)\n",
        "print(plan_arr)\n",
        "label_list=['combo#']+factors\n",
        "print(label_list)\n",
        "df = pd.DataFrame(plan_arr, columns=label_list)\n",
        "df.to_excel('full_factorial_design_catapult_coded.xlsx', index=True)\n"
      ],
      "metadata": {
        "colab": {
          "base_uri": "https://localhost:8080/"
        },
        "id": "6QV6Pm0gShQ2",
        "outputId": "d1a7b85f-4ec5-46d0-c765-b23fd66a0e45"
      },
      "execution_count": null,
      "outputs": [
        {
          "output_type": "stream",
          "name": "stdout",
          "text": [
            "[[ 0.  0.  0.  0.]\n",
            " [ 7.  1.  1. -1.]\n",
            " [ 8.  1.  1.  1.]\n",
            " [ 3. -1.  1. -1.]\n",
            " [ 5.  1. -1. -1.]\n",
            " [ 4. -1.  1.  1.]\n",
            " [ 6.  1. -1.  1.]\n",
            " [ 1. -1. -1. -1.]\n",
            " [ 2. -1. -1.  1.]\n",
            " [ 0.  0.  0.  0.]\n",
            " [ 3. -1.  1. -1.]\n",
            " [ 7.  1.  1. -1.]\n",
            " [ 2. -1. -1.  1.]\n",
            " [ 8.  1.  1.  1.]\n",
            " [ 6.  1. -1.  1.]\n",
            " [ 5.  1. -1. -1.]\n",
            " [ 1. -1. -1. -1.]\n",
            " [ 4. -1.  1.  1.]\n",
            " [ 0.  0.  0.  0.]\n",
            " [ 4. -1.  1.  1.]\n",
            " [ 6.  1. -1.  1.]\n",
            " [ 7.  1.  1. -1.]\n",
            " [ 5.  1. -1. -1.]\n",
            " [ 2. -1. -1.  1.]\n",
            " [ 1. -1. -1. -1.]\n",
            " [ 8.  1.  1.  1.]\n",
            " [ 3. -1.  1. -1.]\n",
            " [ 0.  0.  0.  0.]]\n",
            "['combo#', 'A', 'B', 'C']\n"
          ]
        }
      ]
    },
    {
      "cell_type": "markdown",
      "source": [
        "If you want to run the experiment with real levels (not coded ones), run the following code to create another Excel spreadsheet."
      ],
      "metadata": {
        "id": "bh-p8bkhfVKK"
      }
    },
    {
      "cell_type": "code",
      "source": [
        "real_arr=map_factors_to_ranges(factors, factor_ranges,plan_arr)\n",
        "print(real_arr)\n",
        "label_list=['combo#']+factors\n",
        "print(label_list)\n",
        "df = pd.DataFrame(real_arr, columns=label_list)\n",
        "df.to_excel('full_factorial_design_catapult_real.xlsx', index=True)"
      ],
      "metadata": {
        "colab": {
          "base_uri": "https://localhost:8080/"
        },
        "id": "miPCg0_VQM6n",
        "outputId": "242767ac-9e94-443f-8da7-79971d12fc1a"
      },
      "execution_count": null,
      "outputs": [
        {
          "output_type": "stream",
          "name": "stdout",
          "text": [
            "[[ 0.  58.5 18.  41.8]\n",
            " [ 7.  94.1 23.  40.6]\n",
            " [ 8.  94.1 23.  43. ]\n",
            " [ 3.  22.9 23.  40.6]\n",
            " [ 5.  94.1 13.  40.6]\n",
            " [ 4.  22.9 23.  43. ]\n",
            " [ 6.  94.1 13.  43. ]\n",
            " [ 1.  22.9 13.  40.6]\n",
            " [ 2.  22.9 13.  43. ]\n",
            " [ 0.  58.5 18.  41.8]\n",
            " [ 3.  22.9 23.  40.6]\n",
            " [ 7.  94.1 23.  40.6]\n",
            " [ 2.  22.9 13.  43. ]\n",
            " [ 8.  94.1 23.  43. ]\n",
            " [ 6.  94.1 13.  43. ]\n",
            " [ 5.  94.1 13.  40.6]\n",
            " [ 1.  22.9 13.  40.6]\n",
            " [ 4.  22.9 23.  43. ]\n",
            " [ 0.  58.5 18.  41.8]\n",
            " [ 4.  22.9 23.  43. ]\n",
            " [ 6.  94.1 13.  43. ]\n",
            " [ 7.  94.1 23.  40.6]\n",
            " [ 5.  94.1 13.  40.6]\n",
            " [ 2.  22.9 13.  43. ]\n",
            " [ 1.  22.9 13.  40.6]\n",
            " [ 8.  94.1 23.  43. ]\n",
            " [ 3.  22.9 23.  40.6]\n",
            " [ 0.  58.5 18.  41.8]]\n",
            "['combo#', 'A', 'B', 'C']\n"
          ]
        }
      ]
    }
  ]
}